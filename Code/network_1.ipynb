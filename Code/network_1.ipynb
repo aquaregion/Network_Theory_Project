{
 "cells": [
  {
   "cell_type": "markdown",
   "metadata": {},
   "source": [
    "This notebook is mainly for generating graphs for exports of certain goods among countries\n",
    "for the purpose of visualization of WTN."
   ]
  },
  {
   "cell_type": "code",
   "execution_count": 66,
   "metadata": {
    "collapsed": true
   },
   "outputs": [],
   "source": [
    "%matplotlib inline\n",
    "import igraph as ig\n",
    "import pandas as pd\n",
    "import numpy as np\n",
    "import matplotlib.pyplot as plt\n",
    "import csv\n",
    "import math\n",
    "import re"
   ]
  },
  {
   "cell_type": "code",
   "execution_count": 2,
   "metadata": {
    "collapsed": true
   },
   "outputs": [],
   "source": [
    "WTN = pd.read_csv('/Users/YuchenZheng/Downloads/year_origin_destination_hs07_4.tsv',sep='\\t')"
   ]
  },
  {
   "cell_type": "code",
   "execution_count": 3,
   "metadata": {
    "collapsed": true
   },
   "outputs": [],
   "source": [
    "WTN = WTN.fillna(0)"
   ]
  },
  {
   "cell_type": "code",
   "execution_count": 16,
   "metadata": {
    "collapsed": false
   },
   "outputs": [
    {
     "data": {
      "text/plain": [
       "array([2008, 2009, 2010, 2011, 2012, 2013, 2014])"
      ]
     },
     "execution_count": 16,
     "metadata": {},
     "output_type": "execute_result"
    }
   ],
   "source": [
    "WTN.year.unique()"
   ]
  },
  {
   "cell_type": "code",
   "execution_count": 4,
   "metadata": {
    "collapsed": false
   },
   "outputs": [
    {
     "data": {
      "text/html": [
       "<div>\n",
       "<table border=\"1\" class=\"dataframe\">\n",
       "  <thead>\n",
       "    <tr style=\"text-align: right;\">\n",
       "      <th></th>\n",
       "      <th>year</th>\n",
       "      <th>origin</th>\n",
       "      <th>dest</th>\n",
       "      <th>hs07</th>\n",
       "      <th>export_val</th>\n",
       "      <th>import_val</th>\n",
       "    </tr>\n",
       "  </thead>\n",
       "  <tbody>\n",
       "    <tr>\n",
       "      <th>9134246</th>\n",
       "      <td>2010</td>\n",
       "      <td>ago</td>\n",
       "      <td>bfa</td>\n",
       "      <td>9703</td>\n",
       "      <td>0.0</td>\n",
       "      <td>15048.0</td>\n",
       "    </tr>\n",
       "    <tr>\n",
       "      <th>9134247</th>\n",
       "      <td>2010</td>\n",
       "      <td>ago</td>\n",
       "      <td>civ</td>\n",
       "      <td>806</td>\n",
       "      <td>0.0</td>\n",
       "      <td>59603.0</td>\n",
       "    </tr>\n",
       "    <tr>\n",
       "      <th>9134248</th>\n",
       "      <td>2010</td>\n",
       "      <td>ago</td>\n",
       "      <td>civ</td>\n",
       "      <td>902</td>\n",
       "      <td>0.0</td>\n",
       "      <td>434125.0</td>\n",
       "    </tr>\n",
       "    <tr>\n",
       "      <th>9134249</th>\n",
       "      <td>2010</td>\n",
       "      <td>ago</td>\n",
       "      <td>civ</td>\n",
       "      <td>1202</td>\n",
       "      <td>0.0</td>\n",
       "      <td>10010.0</td>\n",
       "    </tr>\n",
       "    <tr>\n",
       "      <th>9134250</th>\n",
       "      <td>2010</td>\n",
       "      <td>ago</td>\n",
       "      <td>civ</td>\n",
       "      <td>1704</td>\n",
       "      <td>0.0</td>\n",
       "      <td>10663.0</td>\n",
       "    </tr>\n",
       "  </tbody>\n",
       "</table>\n",
       "</div>"
      ],
      "text/plain": [
       "         year origin dest  hs07  export_val  import_val\n",
       "9134246  2010    ago  bfa  9703         0.0     15048.0\n",
       "9134247  2010    ago  civ   806         0.0     59603.0\n",
       "9134248  2010    ago  civ   902         0.0    434125.0\n",
       "9134249  2010    ago  civ  1202         0.0     10010.0\n",
       "9134250  2010    ago  civ  1704         0.0     10663.0"
      ]
     },
     "execution_count": 4,
     "metadata": {},
     "output_type": "execute_result"
    }
   ],
   "source": [
    "WTN2010 = WTN[WTN['year'] == 2010]\n",
    "WTN2010.head()"
   ]
  },
  {
   "cell_type": "markdown",
   "metadata": {},
   "source": [
    "902 is the code in Harmonized System Codes (HS Code) Commodity Classification System that represents tea. Choose one country that is among the most tea exporters in certain years, manipulate with the dataframes and make some visualization"
   ]
  },
  {
   "cell_type": "code",
   "execution_count": 5,
   "metadata": {
    "collapsed": false
   },
   "outputs": [],
   "source": [
    "tea2010 = WTN[(WTN['hs07'] == 902) & (WTN['export_val']>0) & (WTN['year'] == 2010)]"
   ]
  },
  {
   "cell_type": "code",
   "execution_count": 7,
   "metadata": {
    "collapsed": false
   },
   "outputs": [
    {
     "data": {
      "text/plain": [
       "161"
      ]
     },
     "execution_count": 7,
     "metadata": {},
     "output_type": "execute_result"
    },
    {
     "data": {
      "image/png": "[encoded data removed]",
      "text/plain": [
       "<matplotlib.figure.Figure at 0x10427b780>"
      ]
     },
     "metadata": {},
     "output_type": "display_data"
    }
   ],
   "source": [
    "test=tea2010.groupby(by=['origin'])['export_val'].sum()\n",
    "test.plot(kind = 'bar')\n",
    "len(test)"
   ]
  },
  {
   "cell_type": "code",
   "execution_count": 8,
   "metadata": {
    "collapsed": false
   },
   "outputs": [
    {
     "data": {
      "text/plain": [
       "<matplotlib.axes._subplots.AxesSubplot at 0x104731a20>"
      ]
     },
     "execution_count": 8,
     "metadata": {},
     "output_type": "execute_result"
    },
    {
     "data": {
      "image/png": "[encoded data removed]",
      "text/plain": [
       "<matplotlib.figure.Figure at 0x11596deb8>"
      ]
     },
     "metadata": {},
     "output_type": "display_data"
    }
   ],
   "source": [
    "test.sort_values(ascending=False)\n",
    "test1 = test.nlargest(30)\n",
    "test1.plot(kind='bar', title = \"Tea export top 30 in 2010\")"
   ]
  },
  {
   "cell_type": "code",
   "execution_count": 9,
   "metadata": {
    "collapsed": true
   },
   "outputs": [],
   "source": [
    "sri_lanka2008 = WTN[(WTN['origin'] == \"lka\") & (WTN['export_val']>0) & (WTN['year'] == 2008)]\n",
    "sri_lanka2009 = WTN[(WTN['origin'] == \"lka\") & (WTN['export_val']>0) & (WTN['year'] == 2009)]\n",
    "sri_lanka2010 = WTN[(WTN['origin'] == \"lka\") & (WTN['export_val']>0) & (WTN['year'] == 2010)]\n",
    "sri_lanka2011 = WTN[(WTN['origin'] == \"lka\") & (WTN['export_val']>0) & (WTN['year'] == 2011)]\n",
    "sri_lanka2012 = WTN[(WTN['origin'] == \"lka\") & (WTN['export_val']>0) & (WTN['year'] == 2012)]"
   ]
  },
  {
   "cell_type": "code",
   "execution_count": 15,
   "metadata": {
    "collapsed": false
   },
   "outputs": [
    {
     "data": {
      "text/html": [
       "<div>\n",
       "<table border=\"1\" class=\"dataframe\">\n",
       "  <thead>\n",
       "    <tr style=\"text-align: right;\">\n",
       "      <th></th>\n",
       "      <th>year</th>\n",
       "      <th>origin</th>\n",
       "      <th>dest</th>\n",
       "      <th>hs07</th>\n",
       "      <th>export_val</th>\n",
       "      <th>import_val</th>\n",
       "    </tr>\n",
       "  </thead>\n",
       "  <tbody>\n",
       "    <tr>\n",
       "      <th>20230199</th>\n",
       "      <td>2012</td>\n",
       "      <td>lka</td>\n",
       "      <td>ago</td>\n",
       "      <td>801</td>\n",
       "      <td>158924.0</td>\n",
       "      <td>0.0</td>\n",
       "    </tr>\n",
       "    <tr>\n",
       "      <th>20230200</th>\n",
       "      <td>2012</td>\n",
       "      <td>lka</td>\n",
       "      <td>ago</td>\n",
       "      <td>902</td>\n",
       "      <td>3737194.0</td>\n",
       "      <td>0.0</td>\n",
       "    </tr>\n",
       "    <tr>\n",
       "      <th>20230201</th>\n",
       "      <td>2012</td>\n",
       "      <td>lka</td>\n",
       "      <td>ago</td>\n",
       "      <td>1905</td>\n",
       "      <td>138041.0</td>\n",
       "      <td>0.0</td>\n",
       "    </tr>\n",
       "    <tr>\n",
       "      <th>20230202</th>\n",
       "      <td>2012</td>\n",
       "      <td>lka</td>\n",
       "      <td>ago</td>\n",
       "      <td>4011</td>\n",
       "      <td>177719.0</td>\n",
       "      <td>0.0</td>\n",
       "    </tr>\n",
       "    <tr>\n",
       "      <th>20230203</th>\n",
       "      <td>2012</td>\n",
       "      <td>lka</td>\n",
       "      <td>ago</td>\n",
       "      <td>4012</td>\n",
       "      <td>75340.0</td>\n",
       "      <td>0.0</td>\n",
       "    </tr>\n",
       "  </tbody>\n",
       "</table>\n",
       "</div>"
      ],
      "text/plain": [
       "          year origin dest  hs07  export_val  import_val\n",
       "20230199  2012    lka  ago   801    158924.0         0.0\n",
       "20230200  2012    lka  ago   902   3737194.0         0.0\n",
       "20230201  2012    lka  ago  1905    138041.0         0.0\n",
       "20230202  2012    lka  ago  4011    177719.0         0.0\n",
       "20230203  2012    lka  ago  4012     75340.0         0.0"
      ]
     },
     "execution_count": 15,
     "metadata": {},
     "output_type": "execute_result"
    }
   ],
   "source": [
    "sri_lanka2012.head()"
   ]
  },
  {
   "cell_type": "code",
   "execution_count": 11,
   "metadata": {
    "collapsed": false
   },
   "outputs": [],
   "source": [
    "sri_lanka_export2008 = sri_lanka2008.groupby(by=['origin'])['export_val'].sum()\n",
    "sri_lanka_export2009 = sri_lanka2009.groupby(by=['origin'])['export_val'].sum()\n",
    "sri_lanka_export2010 = sri_lanka2010.groupby(by=['origin'])['export_val'].sum()\n",
    "sri_lanka_export2011 = sri_lanka2011.groupby(by=['origin'])['export_val'].sum()\n",
    "sri_lanka_export2012 = sri_lanka2012.groupby(by=['origin'])['export_val'].sum()\n",
    "tea2008 = WTN[(WTN['hs07'] == 902) & (WTN['export_val']>0) & (WTN['year'] == 2008) & (WTN['origin'] == 'lka')]\n",
    "tea2009 = WTN[(WTN['hs07'] == 902) & (WTN['export_val']>0) & (WTN['year'] == 2009) & (WTN['origin'] == 'lka')]\n",
    "tea2010 = WTN[(WTN['hs07'] == 902) & (WTN['export_val']>0) & (WTN['year'] == 2010) & (WTN['origin'] == 'lka')]\n",
    "tea2011 = WTN[(WTN['hs07'] == 902) & (WTN['export_val']>0) & (WTN['year'] == 2011) & (WTN['origin'] == 'lka')]\n",
    "tea2012 = WTN[(WTN['hs07'] == 902) & (WTN['export_val']>0) & (WTN['year'] == 2012) & (WTN['origin'] == 'lka')]"
   ]
  },
  {
   "cell_type": "code",
   "execution_count": 12,
   "metadata": {
    "collapsed": false
   },
   "outputs": [],
   "source": [
    "sri_lanka_tea_export_2008=tea2008.groupby(by=['origin'])['export_val'].sum()\n",
    "sri_lanka_tea_export_2009=tea2009.groupby(by=['origin'])['export_val'].sum()\n",
    "sri_lanka_tea_export_2010=tea2010.groupby(by=['origin'])['export_val'].sum()\n",
    "sri_lanka_tea_export_2011=tea2011.groupby(by=['origin'])['export_val'].sum()\n",
    "sri_lanka_tea_export_2012=tea2012.groupby(by=['origin'])['export_val'].sum()\n"
   ]
  },
  {
   "cell_type": "code",
   "execution_count": 13,
   "metadata": {
    "collapsed": false
   },
   "outputs": [
    {
     "data": {
      "text/plain": [
       "pandas.core.series.Series"
      ]
     },
     "execution_count": 13,
     "metadata": {},
     "output_type": "execute_result"
    }
   ],
   "source": [
    "type(sri_lanka_export2008)"
   ]
  },
  {
   "cell_type": "code",
   "execution_count": 14,
   "metadata": {
    "collapsed": false
   },
   "outputs": [
    {
     "data": {
      "image/png": "[encoded data removed]",
      "text/plain": [
       "<matplotlib.figure.Figure at 0x111459cc0>"
      ]
     },
     "metadata": {},
     "output_type": "display_data"
    }
   ],
   "source": [
    "years = [2008,2009,2010,2011,2012]\n",
    "x = np.array([0,1,2,3,4])\n",
    "plt.xticks(x, years)\n",
    "export = [sri_lanka_export2008,sri_lanka_export2009,sri_lanka_export2010,sri_lanka_export2011,sri_lanka_export2012]\n",
    "tea = [sri_lanka_tea_export_2008,sri_lanka_tea_export_2009,sri_lanka_tea_export_2010,sri_lanka_tea_export_2011,sri_lanka_tea_export_2012]\n",
    "plt.plot(x,export,marker='o',color = 'green',linestyle = 'solid')\n",
    "plt.plot(x,tea,marker='o',color = 'blue',linestyle = 'solid')\n",
    "plt.title('Total export trend vs tea export trend of Sri Lanka')\n",
    "plt.show()"
   ]
  },
  {
   "cell_type": "code",
   "execution_count": 16,
   "metadata": {
    "collapsed": false
   },
   "outputs": [
    {
     "data": {
      "text/plain": [
       "[origin\n",
       " lka    9.066647e+09\n",
       " Name: export_val, dtype: float64, origin\n",
       " lka    7.810513e+09\n",
       " Name: export_val, dtype: float64, origin\n",
       " lka    8.778992e+09\n",
       " Name: export_val, dtype: float64, origin\n",
       " lka    1.081625e+10\n",
       " Name: export_val, dtype: float64, origin\n",
       " lka    1.017980e+10\n",
       " Name: export_val, dtype: float64]"
      ]
     },
     "execution_count": 16,
     "metadata": {},
     "output_type": "execute_result"
    }
   ],
   "source": [
    "export"
   ]
  },
  {
   "cell_type": "code",
   "execution_count": 17,
   "metadata": {
    "collapsed": false
   },
   "outputs": [
    {
     "data": {
      "text/plain": [
       "[origin\n",
       " lka    1.235851e+09\n",
       " Name: export_val, dtype: float64, origin\n",
       " lka    1.154372e+09\n",
       " Name: export_val, dtype: float64, origin\n",
       " lka    1.324976e+09\n",
       " Name: export_val, dtype: float64, origin\n",
       " lka    1.371910e+09\n",
       " Name: export_val, dtype: float64, origin\n",
       " lka    1.375160e+09\n",
       " Name: export_val, dtype: float64]"
      ]
     },
     "execution_count": 17,
     "metadata": {},
     "output_type": "execute_result"
    }
   ],
   "source": [
    "tea"
   ]
  },
  {
   "cell_type": "markdown",
   "metadata": {},
   "source": [
    "Do the same thing with tobacoo"
   ]
  },
  {
   "cell_type": "code",
   "execution_count": 18,
   "metadata": {
    "collapsed": false
   },
   "outputs": [],
   "source": [
    "tobacoo1_2008 = WTN[(WTN['hs07'] == 2401) & (WTN['export_val']>0) & (WTN['year'] == 2008) & (WTN['origin'] == 'deu')]\n",
    "tobacoo2_2008 = WTN[(WTN['hs07'] == 2402) & (WTN['export_val']>0) & (WTN['year'] == 2008) & (WTN['origin'] == 'deu')]\n",
    "tobacoo3_2008 = WTN[(WTN['hs07'] == 2403) & (WTN['export_val']>0) & (WTN['year'] == 2008) & (WTN['origin'] == 'deu')]\n",
    "tobacoo1_2009 = WTN[(WTN['hs07'] == 2401) & (WTN['export_val']>0) & (WTN['year'] == 2009) & (WTN['origin'] == 'deu')]\n",
    "tobacoo2_2009 = WTN[(WTN['hs07'] == 2402) & (WTN['export_val']>0) & (WTN['year'] == 2009) & (WTN['origin'] == 'deu')]\n",
    "tobacoo3_2009 = WTN[(WTN['hs07'] == 2403) & (WTN['export_val']>0) & (WTN['year'] == 2009) & (WTN['origin'] == 'deu')] \n",
    "tobacoo1_2010 = WTN[(WTN['hs07'] == 2401) & (WTN['export_val']>0) & (WTN['year'] == 2010) & (WTN['origin'] == 'deu')]\n",
    "tobacoo2_2010 = WTN[(WTN['hs07'] == 2402) & (WTN['export_val']>0) & (WTN['year'] == 2010) & (WTN['origin'] == 'deu')]\n",
    "tobacoo3_2010 = WTN[(WTN['hs07'] == 2403) & (WTN['export_val']>0) & (WTN['year'] == 2010) & (WTN['origin'] == 'deu')]\n",
    "tobacoo1_2011 = WTN[(WTN['hs07'] == 2401) & (WTN['export_val']>0) & (WTN['year'] == 2011) & (WTN['origin'] == 'deu')]\n",
    "tobacoo2_2011 = WTN[(WTN['hs07'] == 2402) & (WTN['export_val']>0) & (WTN['year'] == 2011) & (WTN['origin'] == 'deu')]\n",
    "tobacoo3_2011 = WTN[(WTN['hs07'] == 2403) & (WTN['export_val']>0) & (WTN['year'] == 2011) & (WTN['origin'] == 'deu')]\n",
    "tobacoo1_2012 = WTN[(WTN['hs07'] == 2401) & (WTN['export_val']>0) & (WTN['year'] == 2012) & (WTN['origin'] == 'deu')]\n",
    "tobacoo2_2012 = WTN[(WTN['hs07'] == 2402) & (WTN['export_val']>0) & (WTN['year'] == 2012) & (WTN['origin'] == 'deu')]\n",
    "tobacoo3_2012 = WTN[(WTN['hs07'] == 2403) & (WTN['export_val']>0) & (WTN['year'] == 2012) & (WTN['origin'] == 'deu')]\n",
    "tobacoo1_2013 = WTN[(WTN['hs07'] == 2401) & (WTN['export_val']>0) & (WTN['year'] == 2013) & (WTN['origin'] == 'deu')]\n",
    "tobacoo2_2013 = WTN[(WTN['hs07'] == 2402) & (WTN['export_val']>0) & (WTN['year'] == 2013) & (WTN['origin'] == 'deu')]\n",
    "tobacoo3_2013 = WTN[(WTN['hs07'] == 2403) & (WTN['export_val']>0) & (WTN['year'] == 2013) & (WTN['origin'] == 'deu')]\n",
    "tobacoo1_2014 = WTN[(WTN['hs07'] == 2401) & (WTN['export_val']>0) & (WTN['year'] == 2014) & (WTN['origin'] == 'deu')]\n",
    "tobacoo2_2014 = WTN[(WTN['hs07'] == 2402) & (WTN['export_val']>0) & (WTN['year'] == 2014) & (WTN['origin'] == 'deu')]\n",
    "tobacoo3_2014 = WTN[(WTN['hs07'] == 2403) & (WTN['export_val']>0) & (WTN['year'] == 2014) & (WTN['origin'] == 'deu')]\n",
    "\n"
   ]
  },
  {
   "cell_type": "code",
   "execution_count": 19,
   "metadata": {
    "collapsed": true
   },
   "outputs": [],
   "source": [
    "tobacoo2008_temp = [tobacoo1_2008, tobacoo2_2008, tobacoo3_2008]\n",
    "tobacoo2008 = pd.concat(tobacoo2008_temp)\n",
    "tobacoo2009_temp = [tobacoo1_2009, tobacoo2_2009, tobacoo3_2009]\n",
    "tobacoo2009 = pd.concat(tobacoo2009_temp)\n",
    "tobacoo2010_temp = [tobacoo1_2010, tobacoo2_2010, tobacoo3_2010]\n",
    "tobacoo2010 = pd.concat(tobacoo2010_temp)\n",
    "tobacoo2011_temp = [tobacoo1_2011, tobacoo2_2011, tobacoo3_2011]\n",
    "tobacoo2011 = pd.concat(tobacoo2011_temp)\n",
    "tobacoo2012_temp = [tobacoo1_2012, tobacoo2_2012, tobacoo3_2012]\n",
    "tobacoo2012 = pd.concat(tobacoo2012_temp)\n",
    "tobacoo2013_temp = [tobacoo1_2013, tobacoo2_2013, tobacoo3_2013]\n",
    "tobacoo2013 = pd.concat(tobacoo2013_temp)\n",
    "tobacoo2014_temp = [tobacoo1_2014, tobacoo2_2014, tobacoo3_2014]\n",
    "tobacoo2014 = pd.concat(tobacoo2014_temp)\n"
   ]
  },
  {
   "cell_type": "code",
   "execution_count": 20,
   "metadata": {
    "collapsed": true
   },
   "outputs": [],
   "source": [
    "deu_toba_export_2008=tobacoo2008.groupby(by=['origin'])['export_val'].sum()\n",
    "deu_toba_export_2009=tobacoo2009.groupby(by=['origin'])['export_val'].sum()\n",
    "deu_toba_export_2010=tobacoo2010.groupby(by=['origin'])['export_val'].sum()\n",
    "deu_toba_export_2011=tobacoo2011.groupby(by=['origin'])['export_val'].sum()\n",
    "deu_toba_export_2012=tobacoo2012.groupby(by=['origin'])['export_val'].sum()\n",
    "deu_toba_export_2013=tobacoo2013.groupby(by=['origin'])['export_val'].sum()\n",
    "deu_toba_export_2014=tobacoo2014.groupby(by=['origin'])['export_val'].sum()"
   ]
  },
  {
   "cell_type": "code",
   "execution_count": 21,
   "metadata": {
    "collapsed": true
   },
   "outputs": [],
   "source": [
    "deu2008 = WTN[(WTN['origin'] == \"deu\") & (WTN['export_val']>0) & (WTN['year'] == 2008)]\n",
    "deu2009 = WTN[(WTN['origin'] == \"deu\") & (WTN['export_val']>0) & (WTN['year'] == 2009)]\n",
    "deu2010 = WTN[(WTN['origin'] == \"deu\") & (WTN['export_val']>0) & (WTN['year'] == 2010)]\n",
    "deu2011 = WTN[(WTN['origin'] == \"deu\") & (WTN['export_val']>0) & (WTN['year'] == 2011)]\n",
    "deu2012 = WTN[(WTN['origin'] == \"deu\") & (WTN['export_val']>0) & (WTN['year'] == 2012)]\n",
    "deu2013 = WTN[(WTN['origin'] == \"deu\") & (WTN['export_val']>0) & (WTN['year'] == 2013)]\n",
    "deu2014 = WTN[(WTN['origin'] == \"deu\") & (WTN['export_val']>0) & (WTN['year'] == 2014)]"
   ]
  },
  {
   "cell_type": "code",
   "execution_count": 22,
   "metadata": {
    "collapsed": true
   },
   "outputs": [],
   "source": [
    "deu_export2008 = deu2008.groupby(by=['origin'])['export_val'].sum()\n",
    "deu_export2009 = deu2009.groupby(by=['origin'])['export_val'].sum()\n",
    "deu_export2010 = deu2010.groupby(by=['origin'])['export_val'].sum()\n",
    "deu_export2011 = deu2011.groupby(by=['origin'])['export_val'].sum()\n",
    "deu_export2012 = deu2012.groupby(by=['origin'])['export_val'].sum()\n",
    "deu_export2013 = deu2013.groupby(by=['origin'])['export_val'].sum()\n",
    "deu_export2014 = deu2014.groupby(by=['origin'])['export_val'].sum()"
   ]
  },
  {
   "cell_type": "code",
   "execution_count": 23,
   "metadata": {
    "collapsed": false
   },
   "outputs": [],
   "source": [
    "tobacoo = [deu_toba_export_2008,deu_toba_export_2009,deu_toba_export_2010,deu_toba_export_2011,deu_toba_export_2012,deu_toba_export_2013,deu_toba_export_2014]"
   ]
  },
  {
   "cell_type": "code",
   "execution_count": 39,
   "metadata": {
    "collapsed": false
   },
   "outputs": [
    {
     "data": {
      "text/plain": [
       "[origin\n",
       " deu    4.790216e+09\n",
       " Name: export_val, dtype: float64, origin\n",
       " deu    4.506597e+09\n",
       " Name: export_val, dtype: float64, origin\n",
       " deu    4.822794e+09\n",
       " Name: export_val, dtype: float64, origin\n",
       " deu    6.199110e+09\n",
       " Name: export_val, dtype: float64, origin\n",
       " deu    5.529285e+09\n",
       " Name: export_val, dtype: float64, origin\n",
       " deu    5.104874e+09\n",
       " Name: export_val, dtype: float64, origin\n",
       " deu    5.065736e+09\n",
       " Name: export_val, dtype: float64]"
      ]
     },
     "execution_count": 39,
     "metadata": {},
     "output_type": "execute_result"
    }
   ],
   "source": [
    "tobacoo"
   ]
  },
  {
   "cell_type": "code",
   "execution_count": 221,
   "metadata": {
    "collapsed": false
   },
   "outputs": [
    {
     "data": {
      "image/png": "[encoded data removed]",
      "text/plain": [
       "<matplotlib.figure.Figure at 0x1172069b0>"
      ]
     },
     "metadata": {},
     "output_type": "display_data"
    }
   ],
   "source": [
    "years = ['2008','2009','2010','2011','2012','2013','2014']\n",
    "#years = [2008,2009,2010,2011,2012,2013,2014]\n",
    "#x = np.array([0,1,2,3,4,5,6])\n",
    "tobacoo = [deu_toba_export_2008,deu_toba_export_2009,deu_toba_export_2010,deu_toba_export_2011,deu_toba_export_2012,deu_toba_export_2013,deu_toba_export_2014]\n",
    "export = [deu_export2008,deu_export2009,deu_export2010,deu_export2011,deu_export2012,deu_export2013,deu_export2014]\n",
    "fig,ax1 = plt.subplots()\n",
    "ax2 = ax1.twinx()\n",
    "ax1.plot(years, export, 'g-')\n",
    "ax2.plot(years, tobacoo, 'b-')\n",
    "ax1.set_xlabel('Year')\n",
    "ax1.set_ylabel('Total Export Value', color='g')\n",
    "ax2.set_ylabel('Tobacoo Export Value', color='b')\n",
    "ax1.set_ylim([5e11,1.5e12])\n",
    "ax2.set_ylim([4e9,10e9])\n",
    "ax1.set_xticklabels(years)\n",
    "plt.title('Tobacoo Export of Germany')\n",
    "#plt.show()\n",
    "#plt.plot(x,export,marker='o',color = 'green',linestyle = 'solid')\n",
    "#plt.plot(x,tobacoo,marker='o',color = 'blue',linestyle = 'solid')\n",
    "#plt.title('Total export trend vs tobacoo export trend of Germany')\n",
    "#plt.show()\n",
    "plt.savefig('germany.png')"
   ]
  },
  {
   "cell_type": "code",
   "execution_count": 57,
   "metadata": {
    "collapsed": false
   },
   "outputs": [
    {
     "data": {
      "text/plain": [
       "matplotlib.axes._subplots.AxesSubplot"
      ]
     },
     "execution_count": 57,
     "metadata": {},
     "output_type": "execute_result"
    }
   ],
   "source": [
    "type(ax1)"
   ]
  },
  {
   "cell_type": "code",
   "execution_count": 104,
   "metadata": {
    "collapsed": false
   },
   "outputs": [
    {
     "data": {
      "text/plain": [
       "<matplotlib.figure.Figure at 0x11674c550>"
      ]
     },
     "metadata": {},
     "output_type": "display_data"
    }
   ],
   "source": [
    "plt.savefig(\"tobacoo.png\",)"
   ]
  },
  {
   "cell_type": "code",
   "execution_count": 105,
   "metadata": {
    "collapsed": true
   },
   "outputs": [],
   "source": [
    "tobacoo1_20081 = WTN[(WTN['hs07'] == 2401) & (WTN['export_val']>0) & (WTN['year'] == 2008) ]\n",
    "tobacoo2_20081 = WTN[(WTN['hs07'] == 2402) & (WTN['export_val']>0) & (WTN['year'] == 2008) ]\n",
    "tobacoo3_20081 = WTN[(WTN['hs07'] == 2403) & (WTN['export_val']>0) & (WTN['year'] == 2008) ]"
   ]
  },
  {
   "cell_type": "code",
   "execution_count": 110,
   "metadata": {
    "collapsed": true
   },
   "outputs": [],
   "source": [
    "tobacoo2008_temp1 = [tobacoo1_20081, tobacoo2_20081, tobacoo3_20081]\n",
    "tobacoo20081 = pd.concat(tobacoo2008_temp1)"
   ]
  },
  {
   "cell_type": "code",
   "execution_count": 112,
   "metadata": {
    "collapsed": false
   },
   "outputs": [],
   "source": [
    "deu_export20081 = tobacoo20081.groupby(by=['origin'])['export_val'].sum()"
   ]
  },
  {
   "cell_type": "code",
   "execution_count": 113,
   "metadata": {
    "collapsed": false
   },
   "outputs": [
    {
     "data": {
      "text/plain": [
       "origin\n",
       "deu    4.790216e+09\n",
       "nld    4.615456e+09\n",
       "bra    2.783606e+09\n",
       "usa    2.032347e+09\n",
       "blx    1.125692e+09\n",
       "pol    1.064356e+09\n",
       "che    9.030804e+08\n",
       "fra    8.250308e+08\n",
       "chn    8.096802e+08\n",
       "tur    7.699054e+08\n",
       "Name: export_val, dtype: float64"
      ]
     },
     "execution_count": 113,
     "metadata": {},
     "output_type": "execute_result"
    }
   ],
   "source": [
    "deu_export20081.nlargest(10)"
   ]
  },
  {
   "cell_type": "code",
   "execution_count": 132,
   "metadata": {
    "collapsed": true
   },
   "outputs": [],
   "source": [
    "pol2008 = WTN[(WTN['origin'] == \"che\") & (WTN['export_val']>0) & (WTN['year'] == 2008)]"
   ]
  },
  {
   "cell_type": "code",
   "execution_count": 133,
   "metadata": {
    "collapsed": true
   },
   "outputs": [],
   "source": [
    "pol_export2008 = pol2008.groupby(by=['origin'])['export_val'].sum()"
   ]
  },
  {
   "cell_type": "code",
   "execution_count": 134,
   "metadata": {
    "collapsed": false
   },
   "outputs": [
    {
     "data": {
      "text/plain": [
       "origin\n",
       "che    2.137887e+11\n",
       "Name: export_val, dtype: float64"
      ]
     },
     "execution_count": 134,
     "metadata": {},
     "output_type": "execute_result"
    }
   ],
   "source": [
    "pol_export2008"
   ]
  },
  {
   "cell_type": "code",
   "execution_count": 125,
   "metadata": {
    "collapsed": false
   },
   "outputs": [
    {
     "data": {
      "text/plain": [
       "[origin\n",
       " deu    1.385614e+12\n",
       " Name: export_val, dtype: float64, origin\n",
       " deu    1.050629e+12\n",
       " Name: export_val, dtype: float64, origin\n",
       " deu    1.197598e+12\n",
       " Name: export_val, dtype: float64, origin\n",
       " deu    1.422815e+12\n",
       " Name: export_val, dtype: float64, origin\n",
       " deu    1.340391e+12\n",
       " Name: export_val, dtype: float64, origin\n",
       " deu    1.379983e+12\n",
       " Name: export_val, dtype: float64, origin\n",
       " deu    1.416808e+12\n",
       " Name: export_val, dtype: float64]"
      ]
     },
     "execution_count": 125,
     "metadata": {},
     "output_type": "execute_result"
    }
   ],
   "source": [
    "export"
   ]
  },
  {
   "cell_type": "markdown",
   "metadata": {},
   "source": [
    "Cork"
   ]
  },
  {
   "cell_type": "code",
   "execution_count": 88,
   "metadata": {
    "collapsed": true
   },
   "outputs": [],
   "source": [
    "cork1_2008 = WTN[(WTN['hs07'] == 4501) & (WTN['export_val']>0) & (WTN['year'] == 2008)& (WTN['origin'] == 'prt')]\n",
    "cork2_2008 = WTN[(WTN['hs07'] == 4502) & (WTN['export_val']>0) & (WTN['year'] == 2008)& (WTN['origin'] == 'prt')]\n",
    "cork3_2008 = WTN[(WTN['hs07'] == 4503) & (WTN['export_val']>0) & (WTN['year'] == 2008) & (WTN['origin'] == 'prt')]\n",
    "cork1_2009 = WTN[(WTN['hs07'] == 4501) & (WTN['export_val']>0) & (WTN['year'] == 2009) & (WTN['origin'] == 'prt')]\n",
    "cork2_2009 = WTN[(WTN['hs07'] == 4502) & (WTN['export_val']>0) & (WTN['year'] == 2009) & (WTN['origin'] == 'prt')]\n",
    "cork3_2009 = WTN[(WTN['hs07'] == 4503) & (WTN['export_val']>0) & (WTN['year'] == 2009) & (WTN['origin'] == 'prt')] \n",
    "cork1_2010 = WTN[(WTN['hs07'] == 4501) & (WTN['export_val']>0) & (WTN['year'] == 2010)& (WTN['origin'] == 'prt')]\n",
    "cork2_2010 = WTN[(WTN['hs07'] == 4502) & (WTN['export_val']>0) & (WTN['year'] == 2010)& (WTN['origin'] == 'prt')]\n",
    "cork3_2010 = WTN[(WTN['hs07'] == 4503) & (WTN['export_val']>0) & (WTN['year'] == 2010) & (WTN['origin'] == 'prt')]\n",
    "cork1_2011 = WTN[(WTN['hs07'] == 4501) & (WTN['export_val']>0) & (WTN['year'] == 2011)& (WTN['origin'] == 'prt')]\n",
    "cork2_2011 = WTN[(WTN['hs07'] == 4502) & (WTN['export_val']>0) & (WTN['year'] == 2011) & (WTN['origin'] == 'prt')]\n",
    "cork3_2011 = WTN[(WTN['hs07'] == 4503) & (WTN['export_val']>0) & (WTN['year'] == 2011)& (WTN['origin'] == 'prt')]\n",
    "cork1_2012 = WTN[(WTN['hs07'] == 4501) & (WTN['export_val']>0) & (WTN['year'] == 2012)& (WTN['origin'] == 'prt')]\n",
    "cork2_2012 = WTN[(WTN['hs07'] == 4502) & (WTN['export_val']>0) & (WTN['year'] == 2012) & (WTN['origin'] == 'prt')]\n",
    "cork3_2012 = WTN[(WTN['hs07'] == 4503) & (WTN['export_val']>0) & (WTN['year'] == 2012) & (WTN['origin'] == 'prt')]\n",
    "cork1_2013 = WTN[(WTN['hs07'] == 4501) & (WTN['export_val']>0) & (WTN['year'] == 2013) & (WTN['origin'] == 'prt')]\n",
    "cork2_2013 = WTN[(WTN['hs07'] == 4502) & (WTN['export_val']>0) & (WTN['year'] == 2013) & (WTN['origin'] == 'prt')]\n",
    "cork3_2013 = WTN[(WTN['hs07'] == 4503) & (WTN['export_val']>0) & (WTN['year'] == 2013) & (WTN['origin'] == 'prt')]\n",
    "cork1_2014 = WTN[(WTN['hs07'] == 4501) & (WTN['export_val']>0) & (WTN['year'] == 2014) & (WTN['origin'] == 'prt')]\n",
    "cork2_2014 = WTN[(WTN['hs07'] == 4502) & (WTN['export_val']>0) & (WTN['year'] == 2014) & (WTN['origin'] == 'prt')]\n",
    "cork3_2014 = WTN[(WTN['hs07'] == 4503) & (WTN['export_val']>0) & (WTN['year'] == 2014) & (WTN['origin'] == 'prt')]\n",
    "\n"
   ]
  },
  {
   "cell_type": "code",
   "execution_count": 89,
   "metadata": {
    "collapsed": true
   },
   "outputs": [],
   "source": [
    "cork2008_temp = [cork1_2008, cork2_2008, cork3_2008]\n",
    "cork2008 = pd.concat(cork2008_temp)\n",
    "cork2009_temp = [cork1_2009, cork2_2009, cork3_2009]\n",
    "cork2009 = pd.concat(cork2009_temp)\n",
    "cork2010_temp = [cork1_2010, cork2_2010, cork3_2010]\n",
    "cork2010 = pd.concat(cork2010_temp)\n",
    "cork2011_temp = [cork1_2011, cork2_2011, cork3_2011]\n",
    "cork2011 = pd.concat(cork2011_temp)\n",
    "cork2012_temp = [cork1_2012, cork2_2012, cork3_2012]\n",
    "cork2012 = pd.concat(cork2012_temp)\n",
    "cork2013_temp = [cork1_2013, cork2_2013, cork3_2013]\n",
    "cork2013 = pd.concat(cork2013_temp)\n",
    "cork2014_temp = [cork1_2014, cork2_2014, cork3_2014]\n",
    "cork2014 = pd.concat(cork2014_temp)"
   ]
  },
  {
   "cell_type": "code",
   "execution_count": 90,
   "metadata": {
    "collapsed": false
   },
   "outputs": [],
   "source": [
    "cork_export_2008=cork2008.groupby(by=['origin'])['export_val'].sum()\n",
    "cork_export_2009=cork2009.groupby(by=['origin'])['export_val'].sum()\n",
    "cork_export_2010=cork2010.groupby(by=['origin'])['export_val'].sum()\n",
    "cork_export_2011=cork2011.groupby(by=['origin'])['export_val'].sum()\n",
    "cork_export_2012=cork2012.groupby(by=['origin'])['export_val'].sum()\n",
    "cork_export_2013=cork2013.groupby(by=['origin'])['export_val'].sum()\n",
    "cork_export_2014=cork2014.groupby(by=['origin'])['export_val'].sum()"
   ]
  },
  {
   "cell_type": "code",
   "execution_count": 91,
   "metadata": {
    "collapsed": false
   },
   "outputs": [
    {
     "data": {
      "text/plain": [
       "origin\n",
       "prt    709355977.0\n",
       "Name: export_val, dtype: float64"
      ]
     },
     "execution_count": 91,
     "metadata": {},
     "output_type": "execute_result"
    }
   ],
   "source": [
    "cork_export_2008\n"
   ]
  },
  {
   "cell_type": "code",
   "execution_count": 92,
   "metadata": {
    "collapsed": false
   },
   "outputs": [],
   "source": [
    "cork = [cork_export_2008,cork_export_2009,cork_export_2010,cork_export_2011,cork_export_2012,cork_export_2013,cork_export_2014]"
   ]
  },
  {
   "cell_type": "code",
   "execution_count": 93,
   "metadata": {
    "collapsed": false
   },
   "outputs": [
    {
     "data": {
      "text/plain": [
       "[origin\n",
       " prt    709355977.0\n",
       " Name: export_val, dtype: float64, origin\n",
       " prt    5.250234e+08\n",
       " Name: export_val, dtype: float64, origin\n",
       " prt    5.525733e+08\n",
       " Name: export_val, dtype: float64, origin\n",
       " prt    602236699.3\n",
       " Name: export_val, dtype: float64, origin\n",
       " prt    585217051.2\n",
       " Name: export_val, dtype: float64, origin\n",
       " prt    5.756333e+08\n",
       " Name: export_val, dtype: float64, origin\n",
       " prt    6.148809e+08\n",
       " Name: export_val, dtype: float64]"
      ]
     },
     "execution_count": 93,
     "metadata": {},
     "output_type": "execute_result"
    }
   ],
   "source": [
    "cork\n"
   ]
  },
  {
   "cell_type": "code",
   "execution_count": 94,
   "metadata": {
    "collapsed": true
   },
   "outputs": [],
   "source": [
    "prt2008 = WTN[(WTN['origin'] == \"prt\") & (WTN['export_val']>0) & (WTN['year'] == 2008)]\n",
    "prt2009 = WTN[(WTN['origin'] == \"prt\") & (WTN['export_val']>0) & (WTN['year'] == 2009)]\n",
    "prt2010 = WTN[(WTN['origin'] == \"prt\") & (WTN['export_val']>0) & (WTN['year'] == 2010)]\n",
    "prt2011 = WTN[(WTN['origin'] == \"prt\") & (WTN['export_val']>0) & (WTN['year'] == 2011)]\n",
    "prt2012 = WTN[(WTN['origin'] == \"prt\") & (WTN['export_val']>0) & (WTN['year'] == 2012)]\n",
    "prt2013 = WTN[(WTN['origin'] == \"prt\") & (WTN['export_val']>0) & (WTN['year'] == 2013)]\n",
    "prt2014 = WTN[(WTN['origin'] == \"prt\") & (WTN['export_val']>0) & (WTN['year'] == 2014)]"
   ]
  },
  {
   "cell_type": "code",
   "execution_count": 95,
   "metadata": {
    "collapsed": true
   },
   "outputs": [],
   "source": [
    "prt_export2008 = prt2008.groupby(by=['origin'])['export_val'].sum()\n",
    "prt_export2009 = prt2009.groupby(by=['origin'])['export_val'].sum()\n",
    "prt_export2010 = prt2010.groupby(by=['origin'])['export_val'].sum()\n",
    "prt_export2011 = prt2011.groupby(by=['origin'])['export_val'].sum()\n",
    "prt_export2012 = prt2012.groupby(by=['origin'])['export_val'].sum()\n",
    "prt_export2013 = prt2013.groupby(by=['origin'])['export_val'].sum()\n",
    "prt_export2014 = prt2014.groupby(by=['origin'])['export_val'].sum()"
   ]
  },
  {
   "cell_type": "code",
   "execution_count": 96,
   "metadata": {
    "collapsed": true
   },
   "outputs": [],
   "source": [
    "prt_export = [prt_export2008,prt_export2009,prt_export2010,prt_export2011,prt_export2012,prt_export2013,prt_export2014]"
   ]
  },
  {
   "cell_type": "code",
   "execution_count": 220,
   "metadata": {
    "collapsed": false
   },
   "outputs": [
    {
     "data": {
      "image/png": "[encoded data removed]",
      "text/plain": [
       "<matplotlib.figure.Figure at 0x117206c88>"
      ]
     },
     "metadata": {},
     "output_type": "display_data"
    }
   ],
   "source": [
    "years = ['2008','2009','2010','2011','2012','2013','2014']\n",
    "fig,ax1 = plt.subplots()\n",
    "ax2 = ax1.twinx()\n",
    "ax1.plot(years, prt_export, 'g-')\n",
    "ax2.plot(years, cork, 'b-')\n",
    "ax1.set_xlabel('Year')\n",
    "ax1.set_ylabel('Total Export Value', color='g')\n",
    "ax2.set_ylabel('Cork Export Value', color='b')\n",
    "ax1.set_ylim([8e9,6.5e10])\n",
    "ax2.set_ylim([4e8,1e9])\n",
    "ax1.set_xticklabels(years)\n",
    "plt.title('Cork Export of Portugal')\n",
    "#plt.show()\n",
    "plt.savefig('portugal.png')"
   ]
  },
  {
   "cell_type": "code",
   "execution_count": 111,
   "metadata": {
    "collapsed": false
   },
   "outputs": [
    {
     "data": {
      "text/plain": [
       "4"
      ]
     },
     "execution_count": 111,
     "metadata": {},
     "output_type": "execute_result"
    }
   ],
   "source": [
    "sum(WTN['hs07'][:1000].astype(str).str[:2]=='50')"
   ]
  },
  {
   "cell_type": "code",
   "execution_count": 114,
   "metadata": {
    "collapsed": false
   },
   "outputs": [],
   "source": [
    "WTN['hs07'] = WTN['hs07'].astype(str)"
   ]
  },
  {
   "cell_type": "code",
   "execution_count": 113,
   "metadata": {
    "collapsed": false
   },
   "outputs": [
    {
     "data": {
      "text/plain": [
       "year            int64\n",
       "origin         object\n",
       "dest           object\n",
       "hs07            int64\n",
       "export_val    float64\n",
       "import_val    float64\n",
       "dtype: object"
      ]
     },
     "execution_count": 113,
     "metadata": {},
     "output_type": "execute_result"
    }
   ],
   "source": [
    "WTN.dtypes"
   ]
  },
  {
   "cell_type": "markdown",
   "metadata": {},
   "source": [
    "Silk"
   ]
  },
  {
   "cell_type": "code",
   "execution_count": 121,
   "metadata": {
    "collapsed": true
   },
   "outputs": [],
   "source": [
    "c1 = ( (WTN.hs07.str[:3] == '500') &\n",
    "      (WTN.export_val>0) &\n",
    "      (WTN.year == 2008) &\n",
    "      (WTN.origin == 'chn'))\n",
    "silk_2008 = WTN[c1]"
   ]
  },
  {
   "cell_type": "code",
   "execution_count": 123,
   "metadata": {
    "collapsed": false
   },
   "outputs": [],
   "source": [
    "c2 = ((WTN.hs07.str[:3] == '500') & (WTN.export_val>0) & (WTN.year == 2009) & (WTN.origin == 'chn'))\n",
    "c3 = ((WTN.hs07.str[:3] == '500') & (WTN.export_val>0) & (WTN.year == 2010) & (WTN.origin == 'chn'))\n",
    "c4 = ((WTN.hs07.str[:3] == '500') & (WTN.export_val>0) & (WTN.year == 2011) & (WTN.origin == 'chn'))\n",
    "c5 = ((WTN.hs07.str[:3] == '500') & (WTN.export_val>0) & (WTN.year == 2012) & (WTN.origin == 'chn'))\n",
    "c6 = ((WTN.hs07.str[:3] == '500') & (WTN.export_val>0) & (WTN.year == 2013) & (WTN.origin == 'chn'))\n",
    "c7 = ((WTN.hs07.str[:3] == '500') & (WTN.export_val>0) & (WTN.year == 2014) & (WTN.origin == 'chn'))\n",
    "silk_2009 = WTN[c2]\n",
    "silk_2010 = WTN[c3]\n",
    "silk_2011 = WTN[c4]\n",
    "silk_2012 = WTN[c5]\n",
    "silk_2013 = WTN[c6]\n",
    "silk_2014 = WTN[c7]\n"
   ]
  },
  {
   "cell_type": "code",
   "execution_count": 124,
   "metadata": {
    "collapsed": false
   },
   "outputs": [],
   "source": [
    "silk_2008 = silk_2008.groupby(by=['origin'])['export_val'].sum()\n",
    "silk_2009 = silk_2009.groupby(by=['origin'])['export_val'].sum()\n",
    "silk_2010 = silk_2010.groupby(by=['origin'])['export_val'].sum()\n",
    "silk_2011 = silk_2011.groupby(by=['origin'])['export_val'].sum()\n",
    "silk_2012 = silk_2012.groupby(by=['origin'])['export_val'].sum()\n",
    "silk_2013 = silk_2013.groupby(by=['origin'])['export_val'].sum()\n",
    "silk_2014 = silk_2014.groupby(by=['origin'])['export_val'].sum()"
   ]
  },
  {
   "cell_type": "code",
   "execution_count": 125,
   "metadata": {
    "collapsed": true
   },
   "outputs": [],
   "source": [
    "silk_chn = [silk_2008, silk_2009, silk_2010, silk_2011, silk_2012, silk_2013, silk_2014]"
   ]
  },
  {
   "cell_type": "code",
   "execution_count": 126,
   "metadata": {
    "collapsed": false
   },
   "outputs": [
    {
     "data": {
      "text/plain": [
       "[origin\n",
       " chn    1.461219e+09\n",
       " Name: export_val, dtype: float64, origin\n",
       " chn    1.196033e+09\n",
       " Name: export_val, dtype: float64, origin\n",
       " chn    1.415304e+09\n",
       " Name: export_val, dtype: float64, origin\n",
       " chn    1.563550e+09\n",
       " Name: export_val, dtype: float64, origin\n",
       " chn    1.456975e+09\n",
       " Name: export_val, dtype: float64, origin\n",
       " chn    1.423813e+09\n",
       " Name: export_val, dtype: float64, origin\n",
       " chn    1.322609e+09\n",
       " Name: export_val, dtype: float64]"
      ]
     },
     "execution_count": 126,
     "metadata": {},
     "output_type": "execute_result"
    }
   ],
   "source": [
    "silk_chn"
   ]
  },
  {
   "cell_type": "code",
   "execution_count": 127,
   "metadata": {
    "collapsed": true
   },
   "outputs": [],
   "source": [
    "chn2008 = WTN[(WTN['origin'] == \"chn\") & (WTN['export_val']>0) & (WTN['year'] == 2008)]\n",
    "chn2009 = WTN[(WTN['origin'] == \"chn\") & (WTN['export_val']>0) & (WTN['year'] == 2009)]\n",
    "chn2010 = WTN[(WTN['origin'] == \"chn\") & (WTN['export_val']>0) & (WTN['year'] == 2010)]\n",
    "chn2011 = WTN[(WTN['origin'] == \"chn\") & (WTN['export_val']>0) & (WTN['year'] == 2011)]\n",
    "chn2012 = WTN[(WTN['origin'] == \"chn\") & (WTN['export_val']>0) & (WTN['year'] == 2012)]\n",
    "chn2013 = WTN[(WTN['origin'] == \"chn\") & (WTN['export_val']>0) & (WTN['year'] == 2013)]\n",
    "chn2014 = WTN[(WTN['origin'] == \"chn\") & (WTN['export_val']>0) & (WTN['year'] == 2014)]"
   ]
  },
  {
   "cell_type": "code",
   "execution_count": 128,
   "metadata": {
    "collapsed": true
   },
   "outputs": [],
   "source": [
    "chn_export2008 = chn2008.groupby(by=['origin'])['export_val'].sum()\n",
    "chn_export2009 = chn2009.groupby(by=['origin'])['export_val'].sum()\n",
    "chn_export2010 = chn2010.groupby(by=['origin'])['export_val'].sum()\n",
    "chn_export2011 = chn2011.groupby(by=['origin'])['export_val'].sum()\n",
    "chn_export2012 = chn2012.groupby(by=['origin'])['export_val'].sum()\n",
    "chn_export2013 = chn2013.groupby(by=['origin'])['export_val'].sum()\n",
    "chn_export2014 = chn2014.groupby(by=['origin'])['export_val'].sum()\n"
   ]
  },
  {
   "cell_type": "code",
   "execution_count": 129,
   "metadata": {
    "collapsed": true
   },
   "outputs": [],
   "source": [
    "chn_export = [chn_export2008, chn_export2009, chn_export2010, chn_export2011, chn_export2012,chn_export2013,chn_export2014]"
   ]
  },
  {
   "cell_type": "code",
   "execution_count": 219,
   "metadata": {
    "collapsed": false
   },
   "outputs": [
    {
     "data": {
      "image/png": "[encoded data removed]",
      "text/plain": [
       "<matplotlib.figure.Figure at 0x117206198>"
      ]
     },
     "metadata": {},
     "output_type": "display_data"
    }
   ],
   "source": [
    "years = ['2008','2009','2010','2011','2012','2013','2014']\n",
    "fig,ax1 = plt.subplots()\n",
    "ax2 = ax1.twinx()\n",
    "ax1.plot(years, chn_export, 'g-')\n",
    "ax2.plot(years, silk_chn, 'b-')\n",
    "ax1.set_xlabel('Year')\n",
    "ax1.set_ylabel('Total Export Value', color='g')\n",
    "ax2.set_ylabel('Silk Export Value', color='b')\n",
    "ax1.set_ylim([5e11,2.4e12])\n",
    "ax2.set_ylim([1e9,3e9])\n",
    "ax1.set_xticklabels(years)\n",
    "plt.title('Silk Export of China')\n",
    "#plt.show()\n",
    "plt.savefig('China.png')"
   ]
  },
  {
   "cell_type": "markdown",
   "metadata": {},
   "source": [
    "Mineral Products"
   ]
  },
  {
   "cell_type": "code",
   "execution_count": 159,
   "metadata": {
    "collapsed": true
   },
   "outputs": [],
   "source": [
    "d1 = ((WTN.hs07.str[:3] == '270') & (WTN.export_val>0) & (WTN.year == 2008) & (WTN.origin == 'sau'))\n",
    "d2 = ((WTN.hs07.str[:3] == '270') & (WTN.export_val>0) & (WTN.year == 2009) & (WTN.origin == 'sau'))\n",
    "d3 = ((WTN.hs07.str[:3] == '270') & (WTN.export_val>0) & (WTN.year == 2010) & (WTN.origin == 'sau'))\n",
    "d4 = ((WTN.hs07.str[:3] == '270') & (WTN.export_val>0) & (WTN.year == 2011) & (WTN.origin == 'sau'))\n",
    "d5 = ((WTN.hs07.str[:3] == '270') & (WTN.export_val>0) & (WTN.year == 2012) & (WTN.origin == 'sau'))\n",
    "d6 = ((WTN.hs07.str[:3] == '270') & (WTN.export_val>0) & (WTN.year == 2013) & (WTN.origin == 'sau'))\n",
    "d7 = ((WTN.hs07.str[:3] == '270') & (WTN.export_val>0) & (WTN.year == 2014) & (WTN.origin == 'sau'))\n",
    "mineral2008 = WTN[d1]\n",
    "mineral2009 = WTN[d2]\n",
    "mineral2010 = WTN[d3]\n",
    "mineral2011 = WTN[d4]\n",
    "mineral2012 = WTN[d5]\n",
    "mineral2013 = WTN[d6]\n",
    "mineral2014 = WTN[d7]\n"
   ]
  },
  {
   "cell_type": "code",
   "execution_count": 160,
   "metadata": {
    "collapsed": false
   },
   "outputs": [],
   "source": [
    "mineral2008 = mineral2008.groupby(by=['origin'])['export_val'].sum()\n",
    "mineral2009 = mineral2009.groupby(by=['origin'])['export_val'].sum()\n",
    "mineral2010 = mineral2010.groupby(by=['origin'])['export_val'].sum()\n",
    "mineral2011 = mineral2011.groupby(by=['origin'])['export_val'].sum()\n",
    "mineral2012 = mineral2012.groupby(by=['origin'])['export_val'].sum()\n",
    "mineral2013 = mineral2013.groupby(by=['origin'])['export_val'].sum()\n",
    "mineral2014 = mineral2014.groupby(by=['origin'])['export_val'].sum()\n",
    "\n"
   ]
  },
  {
   "cell_type": "code",
   "execution_count": 161,
   "metadata": {
    "collapsed": true
   },
   "outputs": [],
   "source": [
    "mineral = [mineral2008,mineral2009,mineral2010,mineral2011,mineral2012,mineral2013,mineral2014]"
   ]
  },
  {
   "cell_type": "code",
   "execution_count": 162,
   "metadata": {
    "collapsed": false
   },
   "outputs": [
    {
     "data": {
      "text/plain": [
       "[origin\n",
       " sau    4.229333e+11\n",
       " Name: export_val, dtype: float64, origin\n",
       " sau    2.495934e+11\n",
       " Name: export_val, dtype: float64, origin\n",
       " sau    3.366420e+11\n",
       " Name: export_val, dtype: float64, origin\n",
       " sau    5.034054e+11\n",
       " Name: export_val, dtype: float64, origin\n",
       " sau    5.494572e+11\n",
       " Name: export_val, dtype: float64, origin\n",
       " sau    4.405368e+11\n",
       " Name: export_val, dtype: float64, origin\n",
       " sau    2.360691e+11\n",
       " Name: export_val, dtype: float64]"
      ]
     },
     "execution_count": 162,
     "metadata": {},
     "output_type": "execute_result"
    }
   ],
   "source": [
    "mineral"
   ]
  },
  {
   "cell_type": "code",
   "execution_count": 163,
   "metadata": {
    "collapsed": true
   },
   "outputs": [],
   "source": [
    "sau2008 = WTN[(WTN['origin'] == \"sau\") & (WTN['export_val']>0) & (WTN['year'] == 2008)]\n",
    "sau2009 = WTN[(WTN['origin'] == \"sau\") & (WTN['export_val']>0) & (WTN['year'] == 2009)]\n",
    "sau2010 = WTN[(WTN['origin'] == \"sau\") & (WTN['export_val']>0) & (WTN['year'] == 2010)]\n",
    "sau2011 = WTN[(WTN['origin'] == \"sau\") & (WTN['export_val']>0) & (WTN['year'] == 2011)]\n",
    "sau2012 = WTN[(WTN['origin'] == \"sau\") & (WTN['export_val']>0) & (WTN['year'] == 2012)]\n",
    "sau2013 = WTN[(WTN['origin'] == \"sau\") & (WTN['export_val']>0) & (WTN['year'] == 2013)]\n",
    "sau2014 = WTN[(WTN['origin'] == \"sau\") & (WTN['export_val']>0) & (WTN['year'] == 2014)]\n"
   ]
  },
  {
   "cell_type": "code",
   "execution_count": 165,
   "metadata": {
    "collapsed": false
   },
   "outputs": [],
   "source": [
    "sau_export2008 = sau2008.groupby(by=['origin'])['export_val'].sum()\n",
    "sau_export2009 = sau2009.groupby(by=['origin'])['export_val'].sum()\n",
    "sau_export2010 = sau2010.groupby(by=['origin'])['export_val'].sum()\n",
    "sau_export2011 = sau2011.groupby(by=['origin'])['export_val'].sum()\n",
    "sau_export2012 = sau2012.groupby(by=['origin'])['export_val'].sum()\n",
    "sau_export2013 = sau2013.groupby(by=['origin'])['export_val'].sum()\n",
    "sau_export2014 = sau2014.groupby(by=['origin'])['export_val'].sum()\n"
   ]
  },
  {
   "cell_type": "code",
   "execution_count": 166,
   "metadata": {
    "collapsed": true
   },
   "outputs": [],
   "source": [
    "sau_export = [sau_export2008, sau_export2009, sau_export2010, sau_export2011, sau_export2012, sau_export2013, sau_export2014]"
   ]
  },
  {
   "cell_type": "code",
   "execution_count": 167,
   "metadata": {
    "collapsed": false
   },
   "outputs": [
    {
     "data": {
      "text/plain": [
       "[origin\n",
       " sau    5.143443e+11\n",
       " Name: export_val, dtype: float64, origin\n",
       " sau    3.178337e+11\n",
       " Name: export_val, dtype: float64, origin\n",
       " sau    4.348816e+11\n",
       " Name: export_val, dtype: float64, origin\n",
       " sau    6.219353e+11\n",
       " Name: export_val, dtype: float64, origin\n",
       " sau    6.793271e+11\n",
       " Name: export_val, dtype: float64, origin\n",
       " sau    5.555730e+11\n",
       " Name: export_val, dtype: float64, origin\n",
       " sau    3.094016e+11\n",
       " Name: export_val, dtype: float64]"
      ]
     },
     "execution_count": 167,
     "metadata": {},
     "output_type": "execute_result"
    }
   ],
   "source": [
    "sau_export"
   ]
  },
  {
   "cell_type": "code",
   "execution_count": 218,
   "metadata": {
    "collapsed": false
   },
   "outputs": [
    {
     "data": {
      "image/png": "[encoded data removed]",
      "text/plain": [
       "<matplotlib.figure.Figure at 0x117206208>"
      ]
     },
     "metadata": {},
     "output_type": "display_data"
    }
   ],
   "source": [
    "years = ['2008','2009','2010','2011','2012','2013','2014']\n",
    "fig,ax1 = plt.subplots()\n",
    "ax2 = ax1.twinx()\n",
    "ax1.plot(years, sau_export, 'g-')\n",
    "ax2.plot(years, mineral, 'b-')\n",
    "ax1.set_xlabel('Year')\n",
    "ax1.set_ylabel('Total Export Value', color='g')\n",
    "ax2.set_ylabel('Mineral Products Export Value', color='b')\n",
    "ax1.set_ylim([2e11,7e11])\n",
    "ax2.set_ylim([2e11,7e11])\n",
    "ax1.set_xticklabels(years)\n",
    "plt.title('Exports of Mineral Products of Saudi Arabia')\n",
    "#plt.show()\n",
    "plt.savefig('saudi arabia.png')"
   ]
  },
  {
   "cell_type": "code",
   "execution_count": 1,
   "metadata": {
    "collapsed": false
   },
   "outputs": [
    {
     "ename": "NameError",
     "evalue": "name 'Clocks' is not defined",
     "output_type": "error",
     "traceback": [
      "\u001b[0;31m---------------------------------------------------------------------------\u001b[0m",
      "\u001b[0;31mNameError\u001b[0m                                 Traceback (most recent call last)",
      "\u001b[0;32m<ipython-input-1-c6e68e1acbce>\u001b[0m in \u001b[0;36m<module>\u001b[0;34m()\u001b[0m\n\u001b[0;32m----> 1\u001b[0;31m \u001b[0mClocks\u001b[0m \u001b[0;32mand\u001b[0m \u001b[0mwatches\u001b[0m\u001b[0;34m\u001b[0m\u001b[0m\n\u001b[0m",
      "\u001b[0;31mNameError\u001b[0m: name 'Clocks' is not defined"
     ]
    }
   ],
   "source": [
    "Clocks and watches"
   ]
  },
  {
   "cell_type": "code",
   "execution_count": 175,
   "metadata": {
    "collapsed": false
   },
   "outputs": [],
   "source": [
    "e1 = ((WTN.hs07.str[:3] == '910') & (WTN.export_val>0) & (WTN.year == 2008) & (WTN.origin == 'che'))\n",
    "e2 = ((WTN.hs07.str[:3] == '910') & (WTN.export_val>0) & (WTN.year == 2009) & (WTN.origin == 'che'))\n",
    "e3 = ((WTN.hs07.str[:3] == '910') & (WTN.export_val>0) & (WTN.year == 2010) & (WTN.origin == 'che'))\n",
    "e4 = ((WTN.hs07.str[:3] == '910') & (WTN.export_val>0) & (WTN.year == 2011) & (WTN.origin == 'che'))\n",
    "e5 = ((WTN.hs07.str[:3] == '910') & (WTN.export_val>0) & (WTN.year == 2012) & (WTN.origin == 'che'))\n",
    "e6 = ((WTN.hs07.str[:3] == '910') & (WTN.export_val>0) & (WTN.year == 2013) & (WTN.origin == 'che'))\n",
    "e7 = ((WTN.hs07.str[:3] == '910') & (WTN.export_val>0) & (WTN.year == 2014) & (WTN.origin == 'che'))\n",
    "clock08 = WTN[e1]\n",
    "clock09 = WTN[e2]\n",
    "clock10 = WTN[e3]\n",
    "clock11 = WTN[e4]\n",
    "clock12 = WTN[e5]\n",
    "clock13 = WTN[e6]\n",
    "clock14 = WTN[e7]"
   ]
  },
  {
   "cell_type": "code",
   "execution_count": 180,
   "metadata": {
    "collapsed": false
   },
   "outputs": [],
   "source": [
    "#clock08 = clock08.groupby(by=['origin'])['export_val'].sum()\n",
    "clock09 = clock09.groupby(by=['origin'])['export_val'].sum()\n",
    "clock10 = clock10.groupby(by=['origin'])['export_val'].sum()\n",
    "clock11 = clock11.groupby(by=['origin'])['export_val'].sum()\n",
    "clock12 = clock12.groupby(by=['origin'])['export_val'].sum()\n",
    "clock13 = clock13.groupby(by=['origin'])['export_val'].sum()\n",
    "clock14 = clock14.groupby(by=['origin'])['export_val'].sum()"
   ]
  },
  {
   "cell_type": "code",
   "execution_count": 181,
   "metadata": {
    "collapsed": true
   },
   "outputs": [],
   "source": [
    "clock = [clock08, clock09, clock10, clock11, clock12, clock13, clock14]"
   ]
  },
  {
   "cell_type": "code",
   "execution_count": 182,
   "metadata": {
    "collapsed": true
   },
   "outputs": [],
   "source": [
    "che2008 = WTN[(WTN['origin'] == \"che\") & (WTN['export_val']>0) & (WTN['year'] == 2008)]\n",
    "che2009 = WTN[(WTN['origin'] == \"che\") & (WTN['export_val']>0) & (WTN['year'] == 2009)]\n",
    "che2010 = WTN[(WTN['origin'] == \"che\") & (WTN['export_val']>0) & (WTN['year'] == 2010)]\n",
    "che2011 = WTN[(WTN['origin'] == \"che\") & (WTN['export_val']>0) & (WTN['year'] == 2011)]\n",
    "che2012 = WTN[(WTN['origin'] == \"che\") & (WTN['export_val']>0) & (WTN['year'] == 2012)]\n",
    "che2013 = WTN[(WTN['origin'] == \"che\") & (WTN['export_val']>0) & (WTN['year'] == 2013)]\n",
    "che2014 = WTN[(WTN['origin'] == \"che\") & (WTN['export_val']>0) & (WTN['year'] == 2014)]\n"
   ]
  },
  {
   "cell_type": "code",
   "execution_count": 183,
   "metadata": {
    "collapsed": true
   },
   "outputs": [],
   "source": [
    "che_export2008 = che2008.groupby(by=['origin'])['export_val'].sum()\n",
    "che_export2009 = che2009.groupby(by=['origin'])['export_val'].sum()\n",
    "che_export2010 = che2010.groupby(by=['origin'])['export_val'].sum()\n",
    "che_export2011 = che2011.groupby(by=['origin'])['export_val'].sum()\n",
    "che_export2012 = che2012.groupby(by=['origin'])['export_val'].sum()\n",
    "che_export2013 = che2013.groupby(by=['origin'])['export_val'].sum()\n",
    "che_export2014 = che2014.groupby(by=['origin'])['export_val'].sum()\n"
   ]
  },
  {
   "cell_type": "code",
   "execution_count": 184,
   "metadata": {
    "collapsed": true
   },
   "outputs": [],
   "source": [
    "che_export = [che_export2008,che_export2009,che_export2010,che_export2011,che_export2012,che_export2013,che_export2014]"
   ]
  },
  {
   "cell_type": "code",
   "execution_count": 217,
   "metadata": {
    "collapsed": false
   },
   "outputs": [
    {
     "data": {
      "image/png": "[encoded data removed]",
      "text/plain": [
       "<matplotlib.figure.Figure at 0x111177ba8>"
      ]
     },
     "metadata": {},
     "output_type": "display_data"
    }
   ],
   "source": [
    "years = ['2008','2009','2010','2011','2012','2013','2014']\n",
    "fig,ax1 = plt.subplots()\n",
    "ax2 = ax1.twinx()\n",
    "ax1.plot(years, che_export, 'g-')\n",
    "ax2.plot(years, clock, 'b-')\n",
    "ax1.set_xlabel('Year')\n",
    "ax1.set_ylabel('Total Export Value', color='g')\n",
    "ax2.set_ylabel('Clocks and Watches Export Value', color='b')\n",
    "ax1.set_ylim([7e10,3.6e11])\n",
    "ax2.set_ylim([1e10,6e10])\n",
    "ax1.set_xticklabels(years)\n",
    "plt.title('Exports of Clocks and Watches of Switzerland')\n",
    "#plt.show()\n",
    "plt.savefig('switzerland.png')"
   ]
  },
  {
   "cell_type": "markdown",
   "metadata": {},
   "source": [
    "Iron and steel"
   ]
  },
  {
   "cell_type": "code",
   "execution_count": 198,
   "metadata": {
    "collapsed": true
   },
   "outputs": [],
   "source": [
    "f1 = ((WTN.hs07.str[:3] == '720') & (WTN.export_val>0) & (WTN.year == 2008) & (WTN.origin == 'rus'))\n",
    "f2 = ((WTN.hs07.str[:3] == '720') & (WTN.export_val>0) & (WTN.year == 2009) & (WTN.origin == 'rus'))\n",
    "f3 = ((WTN.hs07.str[:3] == '720') & (WTN.export_val>0) & (WTN.year == 2010) & (WTN.origin == 'rus'))\n",
    "f4 = ((WTN.hs07.str[:3] == '720') & (WTN.export_val>0) & (WTN.year == 2011) & (WTN.origin == 'rus'))\n",
    "f5 = ((WTN.hs07.str[:3] == '720') & (WTN.export_val>0) & (WTN.year == 2012) & (WTN.origin == 'rus'))\n",
    "f6 = ((WTN.hs07.str[:3] == '720') & (WTN.export_val>0) & (WTN.year == 2013) & (WTN.origin == 'rus'))\n",
    "f7 = ((WTN.hs07.str[:3] == '720') & (WTN.export_val>0) & (WTN.year == 2014) & (WTN.origin == 'rus'))\n",
    "metal08 = WTN[f1]\n",
    "metal09 = WTN[f2]\n",
    "metal10 = WTN[f3]\n",
    "metal11 = WTN[f4]\n",
    "metal12 = WTN[f5]\n",
    "metal13 = WTN[f6]\n",
    "metal14 = WTN[f7]"
   ]
  },
  {
   "cell_type": "code",
   "execution_count": 199,
   "metadata": {
    "collapsed": false
   },
   "outputs": [],
   "source": [
    "metal08 = metal08.groupby(by=['origin'])['export_val'].sum()\n",
    "metal09 = metal09.groupby(by=['origin'])['export_val'].sum()\n",
    "metal10 = metal10.groupby(by=['origin'])['export_val'].sum()\n",
    "metal11 = metal11.groupby(by=['origin'])['export_val'].sum()\n",
    "metal12 = metal12.groupby(by=['origin'])['export_val'].sum()\n",
    "metal13 = metal13.groupby(by=['origin'])['export_val'].sum()\n",
    "metal14 = metal14.groupby(by=['origin'])['export_val'].sum()"
   ]
  },
  {
   "cell_type": "code",
   "execution_count": 200,
   "metadata": {
    "collapsed": false
   },
   "outputs": [],
   "source": [
    "metal = [metal08, metal09, metal10, metal11, metal12, metal13, metal14]"
   ]
  },
  {
   "cell_type": "code",
   "execution_count": 201,
   "metadata": {
    "collapsed": true
   },
   "outputs": [],
   "source": [
    "rus2008 = WTN[(WTN['origin'] == \"rus\") & (WTN['export_val']>0) & (WTN['year'] == 2008)]\n",
    "rus2009 = WTN[(WTN['origin'] == \"rus\") & (WTN['export_val']>0) & (WTN['year'] == 2009)]\n",
    "rus2010 = WTN[(WTN['origin'] == \"rus\") & (WTN['export_val']>0) & (WTN['year'] == 2010)]\n",
    "rus2011 = WTN[(WTN['origin'] == \"rus\") & (WTN['export_val']>0) & (WTN['year'] == 2011)]\n",
    "rus2012 = WTN[(WTN['origin'] == \"rus\") & (WTN['export_val']>0) & (WTN['year'] == 2012)]\n",
    "rus2013 = WTN[(WTN['origin'] == \"rus\") & (WTN['export_val']>0) & (WTN['year'] == 2013)]\n",
    "rus2014 = WTN[(WTN['origin'] == \"rus\") & (WTN['export_val']>0) & (WTN['year'] == 2014)]\n"
   ]
  },
  {
   "cell_type": "code",
   "execution_count": 202,
   "metadata": {
    "collapsed": true
   },
   "outputs": [],
   "source": [
    "rus_export2008 = rus2008.groupby(by=['origin'])['export_val'].sum()\n",
    "rus_export2009 = rus2009.groupby(by=['origin'])['export_val'].sum()\n",
    "rus_export2010 = rus2010.groupby(by=['origin'])['export_val'].sum()\n",
    "rus_export2011 = rus2011.groupby(by=['origin'])['export_val'].sum()\n",
    "rus_export2012 = rus2012.groupby(by=['origin'])['export_val'].sum()\n",
    "rus_export2013 = rus2013.groupby(by=['origin'])['export_val'].sum()\n",
    "rus_export2014 = rus2014.groupby(by=['origin'])['export_val'].sum()"
   ]
  },
  {
   "cell_type": "code",
   "execution_count": 203,
   "metadata": {
    "collapsed": true
   },
   "outputs": [],
   "source": [
    "rus_export = [rus_export2008,rus_export2009,rus_export2010,rus_export2011,rus_export2012,rus_export2013,rus_export2014]"
   ]
  },
  {
   "cell_type": "code",
   "execution_count": 205,
   "metadata": {
    "collapsed": false
   },
   "outputs": [
    {
     "data": {
      "text/plain": [
       "[origin\n",
       " rus    4.617402e+11\n",
       " Name: export_val, dtype: float64, origin\n",
       " rus    2.904478e+11\n",
       " Name: export_val, dtype: float64, origin\n",
       " rus    3.841642e+11\n",
       " Name: export_val, dtype: float64, origin\n",
       " rus    5.049366e+11\n",
       " Name: export_val, dtype: float64, origin\n",
       " rus    4.751640e+11\n",
       " Name: export_val, dtype: float64, origin\n",
       " rus    4.802043e+11\n",
       " Name: export_val, dtype: float64, origin\n",
       " rus    4.487912e+11\n",
       " Name: export_val, dtype: float64]"
      ]
     },
     "execution_count": 205,
     "metadata": {},
     "output_type": "execute_result"
    }
   ],
   "source": [
    "rus_export"
   ]
  },
  {
   "cell_type": "code",
   "execution_count": 216,
   "metadata": {
    "collapsed": false
   },
   "outputs": [
    {
     "data": {
      "image/png": "[encoded data removed]",
      "text/plain": [
       "<matplotlib.figure.Figure at 0x112b09ac8>"
      ]
     },
     "metadata": {},
     "output_type": "display_data"
    }
   ],
   "source": [
    "years = ['2008','2009','2010','2011','2012','2013','2014']\n",
    "fig,ax1 = plt.subplots()\n",
    "ax2 = ax1.twinx()\n",
    "ax1.plot(years, rus_export, 'g-')\n",
    "ax2.plot(years, metal, 'b-')\n",
    "ax1.set_xlabel('Year')\n",
    "ax1.set_ylabel('Total Export Value', color='g')\n",
    "ax2.set_ylabel('Iron and Steel Export Value', color='b')\n",
    "ax1.set_ylim([6e10,5.5e11])\n",
    "ax2.set_ylim([1e10,4.5e10])\n",
    "ax1.set_xticklabels(years)\n",
    "plt.title('Exports of Iron and Steel of Russia')\n",
    "#plt.show()\n",
    "plt.savefig('russia.png')"
   ]
  },
  {
   "cell_type": "code",
   "execution_count": null,
   "metadata": {
    "collapsed": true
   },
   "outputs": [],
   "source": []
  }
 ],
 "metadata": {
  "anaconda-cloud": {},
  "kernelspec": {
   "display_name": "Python [conda root]",
   "language": "python",
   "name": "conda-root-py"
  },
  "language_info": {
   "codemirror_mode": {
    "name": "ipython",
    "version": 3
   },
   "file_extension": ".py",
   "mimetype": "text/x-python",
   "name": "python",
   "nbconvert_exporter": "python",
   "pygments_lexer": "ipython3",
   "version": "3.5.2"
  }
 },
 "nbformat": 4,
 "nbformat_minor": 1
}
