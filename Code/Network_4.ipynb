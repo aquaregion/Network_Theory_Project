{
 "cells": [
  {
   "cell_type": "markdown",
   "metadata": {
    "collapsed": true
   },
   "source": [
    "#take the top 40 countries by global mean across time, then plot their mean interactions between countries\n",
    "#take these communities, then their mean in-degree per year\n",
    "#plot scatters \n",
    "\n",
    "#trying directed but with means. do drop 0 or something to only get exports? \n",
    "\n",
    "#looks like for 2012 and some other years, one community, otherwise one big community and smaller ones \n",
    "\n",
    "#for top 10, 2010 has a smaller big community \n",
    "#what is it about 2008 that makes the structure so nice? "
   ]
  },
  {
   "cell_type": "code",
   "execution_count": 2,
   "metadata": {
    "collapsed": false
   },
   "outputs": [],
   "source": [
    "%matplotlib inline\n",
    "import pandas as pd\n",
    "import numpy as np\n",
    "import matplotlib.pyplot as plt\n",
    "import math\n",
    "%reload_ext autoreload\n",
    "%autoreload 2\n",
    "import scipy.stats as st\n",
    "import os\n",
    "from scipy.optimize import curve_fit\n",
    "import igraph as ig\n",
    "import csv\n",
    "\n",
    "#import powerlaw as pl\n",
    "\n",
    "from IPython.core.interactiveshell import InteractiveShell\n",
    "InteractiveShell.ast_node_interactivity = \"all\"\n",
    "\n"
   ]
  },
  {
   "cell_type": "code",
   "execution_count": 3,
   "metadata": {
    "collapsed": true
   },
   "outputs": [],
   "source": [
    "df = pd.read_csv('/Users/YuchenZheng/Downloads/year_origin_destination_hs07_4.tsv',sep='\\t')"
   ]
  },
  {
   "cell_type": "code",
   "execution_count": 4,
   "metadata": {
    "collapsed": true
   },
   "outputs": [],
   "source": [
    "df = df.fillna(0)\n",
    "df = df[df['export_val'] > 0]\n",
    "df = df[df['hs07'] == 2709]"
   ]
  },
  {
   "cell_type": "code",
   "execution_count": 5,
   "metadata": {
    "collapsed": false
   },
   "outputs": [],
   "source": [
    "#calculate mean in-degree for each origin country across all transactions, partners, and time \n",
    "mean_time = df.groupby(['origin']).mean().reset_index()"
   ]
  },
  {
   "cell_type": "code",
   "execution_count": 6,
   "metadata": {
    "collapsed": false
   },
   "outputs": [],
   "source": [
    "#take the top 40\n",
    "top = mean_time.sort_values('import_val')[-40:]['origin']\n"
   ]
  },
  {
   "cell_type": "code",
   "execution_count": 7,
   "metadata": {
    "collapsed": false
   },
   "outputs": [],
   "source": [
    "#only look at DF with origin and dest in the top 40\n",
    "df = df[(df['origin'].isin(top)) & (df['dest'].isin(top))]"
   ]
  },
  {
   "cell_type": "code",
   "execution_count": 8,
   "metadata": {
    "collapsed": false
   },
   "outputs": [],
   "source": [
    "#take the mean interaction between each country for each year \n",
    "mean = df[df['export_val'] > 0].groupby(['origin','dest','year']).mean().reset_index()"
   ]
  },
  {
   "cell_type": "code",
   "execution_count": 9,
   "metadata": {
    "collapsed": false
   },
   "outputs": [],
   "source": [
    "#filter out the xx \"countries\" (represent groups?)\n",
    "filtered = mean[(~mean['origin'].str.contains(\"xx\") & (~mean['dest'].str.contains(\"xx\")))]\n",
    "filtered = filtered[filtered['export_val'] > 0]"
   ]
  },
  {
   "cell_type": "markdown",
   "metadata": {
    "collapsed": false
   },
   "source": [
    "#normalize\n",
    "filtered['export_val'] = filtered['export_val']/max(filtered['export_val'])"
   ]
  },
  {
   "cell_type": "code",
   "execution_count": 10,
   "metadata": {
    "collapsed": true
   },
   "outputs": [],
   "source": [
    "pairs_2008 = np.array(filtered[['origin','dest','export_val']][filtered['year']==2008].values)\n",
    "\n",
    "pairs_2009 = np.array(filtered[['origin','dest','export_val']][filtered['year']==2009].values)\n",
    "\n",
    "pairs_2010 = np.array(filtered[['origin','dest','export_val']][filtered['year']==2010].values)\n",
    "\n",
    "pairs_2011 = np.array(filtered[['origin','dest','export_val']][filtered['year']==2011].values)\n",
    "\n",
    "pairs_2012 = np.array(filtered[['origin','dest','export_val']][filtered['year']==2012].values)\n",
    "\n",
    "pairs_2013 = np.array(filtered[['origin','dest','export_val']][filtered['year']==2013].values)\n",
    "\n",
    "pairs_2014 = np.array(filtered[['origin','dest','export_val']][filtered['year']==2014].values)\n"
   ]
  },
  {
   "cell_type": "code",
   "execution_count": 11,
   "metadata": {
    "collapsed": true
   },
   "outputs": [],
   "source": [
    "graph_2008 = ig.Graph.TupleList(pairs_2008, directed = True, weights=True)\n",
    "graph_2008.vs['label'] = graph_2008.vs['name']\n",
    "\n",
    "graph_2009 = ig.Graph.TupleList(pairs_2009, directed = True, weights=True)\n",
    "graph_2009.vs['label'] = graph_2009.vs['name']\n",
    "\n",
    "graph_2010 = ig.Graph.TupleList(pairs_2010, directed = True, weights=True)\n",
    "graph_2010.vs['label'] = graph_2010.vs['name']\n",
    "\n",
    "graph_2011 = ig.Graph.TupleList(pairs_2011, directed = True, weights=True)\n",
    "graph_2011.vs['label'] = graph_2011.vs['name']\n",
    "\n",
    "graph_2012 = ig.Graph.TupleList(pairs_2012, directed = True, weights=True)\n",
    "graph_2012.vs['label'] = graph_2012.vs['name']\n",
    "\n",
    "graph_2013 = ig.Graph.TupleList(pairs_2013, directed = True, weights=True)\n",
    "graph_2013.vs['label'] = graph_2013.vs['name']\n",
    "\n",
    "graph_2014 = ig.Graph.TupleList(pairs_2014, directed = True, weights=True)\n",
    "graph_2014.vs['label'] = graph_2014.vs['name']\n"
   ]
  },
  {
   "cell_type": "code",
   "execution_count": 12,
   "metadata": {
    "collapsed": true
   },
   "outputs": [],
   "source": [
    "edge_weights_2008 = np.array(graph_2008.es['weight']).astype('float')\n",
    "edge_weights_2009 = np.array(graph_2009.es['weight']).astype('float')\n",
    "edge_weights_2010 = np.array(graph_2010.es['weight']).astype('float')\n",
    "edge_weights_2011 = np.array(graph_2011.es['weight']).astype('float')\n",
    "edge_weights_2012 = np.array(graph_2012.es['weight']).astype('float')\n",
    "edge_weights_2013 = np.array(graph_2013.es['weight']).astype('float')\n",
    "edge_weights_2014 = np.array(graph_2014.es['weight']).astype('float')\n"
   ]
  },
  {
   "cell_type": "code",
   "execution_count": 13,
   "metadata": {
    "collapsed": false
   },
   "outputs": [],
   "source": [
    "cmm_2008 = graph_2008.community_edge_betweenness(weights = edge_weights_2008, directed = True)\n",
    "cmm_2009 = graph_2009.community_edge_betweenness(weights = edge_weights_2009, directed = True)\n",
    "cmm_2010 = graph_2010.community_edge_betweenness(weights = edge_weights_2010, directed = True)\n",
    "cmm_2011 = graph_2011.community_edge_betweenness(weights = edge_weights_2011, directed = True)\n",
    "cmm_2012 = graph_2012.community_edge_betweenness(weights = edge_weights_2012, directed = True)\n",
    "cmm_2013 = graph_2013.community_edge_betweenness(weights = edge_weights_2013, directed = True)\n",
    "cmm_2014 = graph_2014.community_edge_betweenness(weights = edge_weights_2014, directed = True)\n"
   ]
  },
  {
   "cell_type": "code",
   "execution_count": 14,
   "metadata": {
    "collapsed": false
   },
   "outputs": [
    {
     "ename": "TypeError",
     "evalue": "plotting not available",
     "output_type": "error",
     "traceback": [
      "\u001b[0;31m---------------------------------------------------------------------------\u001b[0m",
      "\u001b[0;31mTypeError\u001b[0m                                 Traceback (most recent call last)",
      "\u001b[0;32m<ipython-input-14-137641e7c602>\u001b[0m in \u001b[0;36m<module>\u001b[0;34m()\u001b[0m\n\u001b[0;32m----> 1\u001b[0;31m \u001b[0mig\u001b[0m\u001b[0;34m.\u001b[0m\u001b[0mplot\u001b[0m\u001b[0;34m(\u001b[0m\u001b[0mcmm_2008\u001b[0m\u001b[0;34m.\u001b[0m\u001b[0mas_clustering\u001b[0m\u001b[0;34m(\u001b[0m\u001b[0;34m)\u001b[0m\u001b[0;34m,\u001b[0m \u001b[0;34m\"top_10_oil_2008.png\"\u001b[0m\u001b[0;34m)\u001b[0m\u001b[0;34m\u001b[0m\u001b[0m\n\u001b[0m\u001b[1;32m      2\u001b[0m \u001b[0mig\u001b[0m\u001b[0;34m.\u001b[0m\u001b[0mplot\u001b[0m\u001b[0;34m(\u001b[0m\u001b[0mcmm_2009\u001b[0m\u001b[0;34m.\u001b[0m\u001b[0mas_clustering\u001b[0m\u001b[0;34m(\u001b[0m\u001b[0;34m)\u001b[0m\u001b[0;34m,\u001b[0m \u001b[0;34m\"top_10_oil_2009.png\"\u001b[0m\u001b[0;34m)\u001b[0m\u001b[0;34m\u001b[0m\u001b[0m\n\u001b[1;32m      3\u001b[0m \u001b[0mig\u001b[0m\u001b[0;34m.\u001b[0m\u001b[0mplot\u001b[0m\u001b[0;34m(\u001b[0m\u001b[0mcmm_2010\u001b[0m\u001b[0;34m.\u001b[0m\u001b[0mas_clustering\u001b[0m\u001b[0;34m(\u001b[0m\u001b[0;34m)\u001b[0m\u001b[0;34m,\u001b[0m \u001b[0;34m\"top_10_oil_2010.png\"\u001b[0m\u001b[0;34m)\u001b[0m\u001b[0;34m\u001b[0m\u001b[0m\n\u001b[1;32m      4\u001b[0m \u001b[0mig\u001b[0m\u001b[0;34m.\u001b[0m\u001b[0mplot\u001b[0m\u001b[0;34m(\u001b[0m\u001b[0mcmm_2011\u001b[0m\u001b[0;34m.\u001b[0m\u001b[0mas_clustering\u001b[0m\u001b[0;34m(\u001b[0m\u001b[0;34m)\u001b[0m\u001b[0;34m,\u001b[0m \u001b[0;34m\"top_10_oil_2011.png\"\u001b[0m\u001b[0;34m)\u001b[0m\u001b[0;34m\u001b[0m\u001b[0m\n\u001b[1;32m      5\u001b[0m \u001b[0mig\u001b[0m\u001b[0;34m.\u001b[0m\u001b[0mplot\u001b[0m\u001b[0;34m(\u001b[0m\u001b[0mcmm_2012\u001b[0m\u001b[0;34m.\u001b[0m\u001b[0mas_clustering\u001b[0m\u001b[0;34m(\u001b[0m\u001b[0;34m)\u001b[0m\u001b[0;34m,\u001b[0m \u001b[0;34m\"top_10_oil_2012.png\"\u001b[0m\u001b[0;34m)\u001b[0m\u001b[0;34m\u001b[0m\u001b[0m\n",
      "\u001b[0;32m/Users/YuchenZheng/anaconda/lib/python3.5/site-packages/igraph/drawing/__init__.py\u001b[0m in \u001b[0;36mplot\u001b[0;34m(obj, target, bbox, *args, **kwds)\u001b[0m\n\u001b[1;32m    444\u001b[0m         \u001b[0mbbox\u001b[0m \u001b[0;34m=\u001b[0m \u001b[0mBoundingBox\u001b[0m\u001b[0;34m(\u001b[0m\u001b[0mbbox\u001b[0m\u001b[0;34m)\u001b[0m\u001b[0;34m\u001b[0m\u001b[0m\n\u001b[1;32m    445\u001b[0m \u001b[0;34m\u001b[0m\u001b[0m\n\u001b[0;32m--> 446\u001b[0;31m     \u001b[0mresult\u001b[0m \u001b[0;34m=\u001b[0m \u001b[0mPlot\u001b[0m\u001b[0;34m(\u001b[0m\u001b[0mtarget\u001b[0m\u001b[0;34m,\u001b[0m \u001b[0mbbox\u001b[0m\u001b[0;34m,\u001b[0m \u001b[0mbackground\u001b[0m\u001b[0;34m=\u001b[0m\u001b[0mkwds\u001b[0m\u001b[0;34m.\u001b[0m\u001b[0mget\u001b[0m\u001b[0;34m(\u001b[0m\u001b[0;34m\"background\"\u001b[0m\u001b[0;34m,\u001b[0m \u001b[0;34m\"white\"\u001b[0m\u001b[0;34m)\u001b[0m\u001b[0;34m)\u001b[0m\u001b[0;34m\u001b[0m\u001b[0m\n\u001b[0m\u001b[1;32m    447\u001b[0m \u001b[0;34m\u001b[0m\u001b[0m\n\u001b[1;32m    448\u001b[0m     \u001b[0;32mif\u001b[0m \u001b[0;34m\"margin\"\u001b[0m \u001b[0;32min\u001b[0m \u001b[0mkwds\u001b[0m\u001b[0;34m:\u001b[0m\u001b[0;34m\u001b[0m\u001b[0m\n",
      "\u001b[0;32m/Users/YuchenZheng/anaconda/lib/python3.5/site-packages/igraph/drawing/__init__.py\u001b[0m in \u001b[0;36m__init__\u001b[0;34m(self, target, bbox, palette, background)\u001b[0m\n\u001b[1;32m    115\u001b[0m         \"\"\"\n\u001b[1;32m    116\u001b[0m         \u001b[0mself\u001b[0m\u001b[0;34m.\u001b[0m\u001b[0m_filename\u001b[0m \u001b[0;34m=\u001b[0m \u001b[0;32mNone\u001b[0m\u001b[0;34m\u001b[0m\u001b[0m\n\u001b[0;32m--> 117\u001b[0;31m         \u001b[0mself\u001b[0m\u001b[0;34m.\u001b[0m\u001b[0m_surface_was_created\u001b[0m \u001b[0;34m=\u001b[0m \u001b[0;32mnot\u001b[0m \u001b[0misinstance\u001b[0m\u001b[0;34m(\u001b[0m\u001b[0mtarget\u001b[0m\u001b[0;34m,\u001b[0m \u001b[0mcairo\u001b[0m\u001b[0;34m.\u001b[0m\u001b[0mSurface\u001b[0m\u001b[0;34m)\u001b[0m\u001b[0;34m\u001b[0m\u001b[0m\n\u001b[0m\u001b[1;32m    118\u001b[0m         \u001b[0mself\u001b[0m\u001b[0;34m.\u001b[0m\u001b[0m_need_tmpfile\u001b[0m \u001b[0;34m=\u001b[0m \u001b[0;32mFalse\u001b[0m\u001b[0;34m\u001b[0m\u001b[0m\n\u001b[1;32m    119\u001b[0m \u001b[0;34m\u001b[0m\u001b[0m\n",
      "\u001b[0;32m/Users/YuchenZheng/anaconda/lib/python3.5/site-packages/igraph/drawing/utils.py\u001b[0m in \u001b[0;36m__getattr__\u001b[0;34m(self, _)\u001b[0m\n\u001b[1;32m    394\u001b[0m \u001b[0;34m\u001b[0m\u001b[0m\n\u001b[1;32m    395\u001b[0m     \u001b[0;32mdef\u001b[0m \u001b[0m__getattr__\u001b[0m\u001b[0;34m(\u001b[0m\u001b[0mself\u001b[0m\u001b[0;34m,\u001b[0m \u001b[0m_\u001b[0m\u001b[0;34m)\u001b[0m\u001b[0;34m:\u001b[0m\u001b[0;34m\u001b[0m\u001b[0m\n\u001b[0;32m--> 396\u001b[0;31m         \u001b[0;32mraise\u001b[0m \u001b[0mTypeError\u001b[0m\u001b[0;34m(\u001b[0m\u001b[0;34m\"plotting not available\"\u001b[0m\u001b[0;34m)\u001b[0m\u001b[0;34m\u001b[0m\u001b[0m\n\u001b[0m\u001b[1;32m    397\u001b[0m     \u001b[0;32mdef\u001b[0m \u001b[0m__call__\u001b[0m\u001b[0;34m(\u001b[0m\u001b[0mself\u001b[0m\u001b[0;34m,\u001b[0m \u001b[0m_\u001b[0m\u001b[0;34m)\u001b[0m\u001b[0;34m:\u001b[0m\u001b[0;34m\u001b[0m\u001b[0m\n\u001b[1;32m    398\u001b[0m         \u001b[0;32mraise\u001b[0m \u001b[0mTypeError\u001b[0m\u001b[0;34m(\u001b[0m\u001b[0;34m\"plotting not available\"\u001b[0m\u001b[0;34m)\u001b[0m\u001b[0;34m\u001b[0m\u001b[0m\n",
      "\u001b[0;31mTypeError\u001b[0m: plotting not available"
     ]
    }
   ],
   "source": [
    "ig.plot(cmm_2008.as_clustering(), \"top_10_oil_2008.png\")\n",
    "ig.plot(cmm_2009.as_clustering(), \"top_10_oil_2009.png\")\n",
    "ig.plot(cmm_2010.as_clustering(), \"top_10_oil_2010.png\")\n",
    "ig.plot(cmm_2011.as_clustering(), \"top_10_oil_2011.png\")\n",
    "ig.plot(cmm_2012.as_clustering(), \"top_10_oil_2012.png\")\n",
    "ig.plot(cmm_2013.as_clustering(), \"top_10_oil_2013.png\")\n",
    "ig.plot(cmm_2014.as_clustering(), \"top_10_oil_2014.png\")"
   ]
  },
  {
   "cell_type": "code",
   "execution_count": null,
   "metadata": {
    "collapsed": false
   },
   "outputs": [],
   "source": [
    "mem_2008 = zip(graph_2008.vs['name'], cmm_2008.as_clustering().membership)\n",
    "mem_2009 = zip(graph_2009.vs['name'], cmm_2009.as_clustering().membership)\n",
    "mem_2010 = zip(graph_2010.vs['name'], cmm_2010.as_clustering().membership)\n",
    "mem_2011 = zip(graph_2011.vs['name'], cmm_2011.as_clustering().membership)\n",
    "mem_2012 = zip(graph_2012.vs['name'], cmm_2012.as_clustering().membership)\n",
    "mem_2013 = zip(graph_2013.vs['name'], cmm_2013.as_clustering().membership)\n",
    "mem_2014 = zip(graph_2014.vs['name'], cmm_2014.as_clustering().membership)"
   ]
  },
  {
   "cell_type": "markdown",
   "metadata": {
    "collapsed": true
   },
   "source": [
    "#now need mean in-degrees of those communities\n",
    "#assign community index to each node for each year "
   ]
  },
  {
   "cell_type": "markdown",
   "metadata": {
    "collapsed": false
   },
   "source": [
    "#use a line like this to drop any nodes that appear in the network but not in the DF (maybe connected to but not from)\n",
    "#mem_2008 = [i for i in mem_2008 if i[0] in sum_2008['origin'].values]"
   ]
  },
  {
   "cell_type": "code",
   "execution_count": null,
   "metadata": {
    "collapsed": false
   },
   "outputs": [],
   "source": [
    "#DF of summed import values for each year, sorted by alphabet\n",
    "sum_2008 = filtered[filtered['year'] == 2008].groupby('origin').sum().reset_index().sort_values('origin')\n",
    "mem_2008 = [i for i in mem_2008 if i[0] in sum_2008['origin'].values]\n",
    "sum_2008['comm'] = zip(*sorted(mem_2008))[1]\n",
    "comm_wealth_2008 = sum_2008.groupby('comm').mean().reset_index()\n",
    "\n",
    "sum_2009 = filtered[filtered['year'] == 2009].groupby('origin').sum().reset_index().sort_values('origin')\n",
    "mem_2009 = [i for i in mem_2009 if i[0] in sum_2009['origin'].values]\n",
    "sum_2009['comm'] = zip(*sorted(mem_2009))[1]\n",
    "comm_wealth_2009 = sum_2009.groupby('comm').mean().reset_index()\n",
    "\n",
    "sum_2010 = filtered[filtered['year'] == 2010].groupby('origin').sum().reset_index().sort_values('origin')\n",
    "mem_2010 = [i for i in mem_2010 if i[0] in sum_2010['origin'].values]\n",
    "sum_2010['comm'] = zip(*sorted(mem_2010))[1]\n",
    "comm_wealth_2010 = sum_2010.groupby('comm').mean().reset_index()\n",
    "\n",
    "sum_2011 = filtered[filtered['year'] == 2011].groupby('origin').sum().reset_index().sort_values('origin')\n",
    "mem_2011 = [i for i in mem_2011 if i[0] in sum_2011['origin'].values]\n",
    "sum_2011['comm'] = zip(*sorted(mem_2011))[1]\n",
    "comm_wealth_2011 = sum_2011.groupby('comm').mean().reset_index()\n",
    "\n",
    "sum_2012 = filtered[filtered['year'] == 2012].groupby('origin').sum().reset_index().sort_values('origin')\n",
    "mem_2012 = [i for i in mem_2012 if i[0] in sum_2012['origin'].values]\n",
    "sum_2012['comm'] = zip(*sorted(mem_2012))[1]\n",
    "comm_wealth_2012 = sum_2012.groupby('comm').mean().reset_index()\n",
    "\n",
    "sum_2013 = filtered[filtered['year'] == 2013].groupby('origin').sum().reset_index().sort_values('origin')\n",
    "mem_2013 = [i for i in mem_2013 if i[0] in sum_2013['origin'].values]\n",
    "sum_2013['comm'] = zip(*sorted(mem_2013))[1]\n",
    "comm_wealth_2013 = sum_2013.groupby('comm').mean().reset_index()\n",
    "\n",
    "sum_2014 = filtered[filtered['year'] == 2014].groupby('origin').sum().reset_index().sort_values('origin')\n",
    "mem_2014 = [i for i in mem_2014 if i[0] in sum_2014['origin'].values]\n",
    "sum_2014['comm'] = zip(*sorted(mem_2014))[1]\n",
    "comm_wealth_2014 = sum_2014.groupby('comm').mean().reset_index()\n"
   ]
  },
  {
   "cell_type": "code",
   "execution_count": null,
   "metadata": {
    "collapsed": false
   },
   "outputs": [],
   "source": [
    "#now need to assign the appropriate value to each node for its community\n",
    "col_wealth_2008 = []\n",
    "for i in sum_2008['comm']:\n",
    "    col_wealth_2008.append(comm_wealth_2008[comm_wealth_2008['comm'] == i]['import_val'].values[0])\n",
    "sum_2008['comm_wealth'] = col_wealth_2008\n",
    "\n",
    "col_wealth_2009 = []\n",
    "for i in sum_2009['comm']:\n",
    "    col_wealth_2009.append(comm_wealth_2009[comm_wealth_2009['comm'] == i]['import_val'].values[0])\n",
    "sum_2009['comm_wealth'] = col_wealth_2009\n",
    "\n",
    "col_wealth_2010 = []\n",
    "for i in sum_2010['comm']:\n",
    "    col_wealth_2010.append(comm_wealth_2010[comm_wealth_2010['comm'] == i]['import_val'].values[0])\n",
    "sum_2010['comm_wealth'] = col_wealth_2010\n",
    "\n",
    "col_wealth_2011 = []\n",
    "for i in sum_2011['comm']:\n",
    "    col_wealth_2011.append(comm_wealth_2011[comm_wealth_2011['comm'] == i]['import_val'].values[0])\n",
    "sum_2011['comm_wealth'] = col_wealth_2011\n",
    "\n",
    "col_wealth_2012 = []\n",
    "for i in sum_2012['comm']:\n",
    "    col_wealth_2012.append(comm_wealth_2012[comm_wealth_2012['comm'] == i]['import_val'].values[0])\n",
    "sum_2012['comm_wealth'] = col_wealth_2012\n",
    "\n",
    "col_wealth_2013 = []\n",
    "for i in sum_2013['comm']:\n",
    "    col_wealth_2013.append(comm_wealth_2013[comm_wealth_2013['comm'] == i]['import_val'].values[0])\n",
    "sum_2013['comm_wealth'] = col_wealth_2013\n",
    "\n",
    "col_wealth_2014 = []\n",
    "for i in sum_2014['comm']:\n",
    "    col_wealth_2014.append(comm_wealth_2014[comm_wealth_2014['comm'] == i]['import_val'].values[0])\n",
    "sum_2014['comm_wealth'] = col_wealth_2014"
   ]
  },
  {
   "cell_type": "code",
   "execution_count": null,
   "metadata": {
    "collapsed": false
   },
   "outputs": [],
   "source": [
    "#now need to assemble plots\n",
    "#need a single DF with all the data \n",
    "sum_2008['year'] = 2008\n",
    "sum_2009['year'] = 2009\n",
    "sum_2010['year'] = 2010\n",
    "sum_2011['year'] = 2011\n",
    "sum_2012['year'] = 2012\n",
    "sum_2013['year'] = 2013\n",
    "sum_2014['year'] = 2014"
   ]
  },
  {
   "cell_type": "code",
   "execution_count": null,
   "metadata": {
    "collapsed": false
   },
   "outputs": [],
   "source": [
    "all_df = sum_2008.append([sum_2009, sum_2010,sum_2011,sum_2012,sum_2013,sum_2014])"
   ]
  },
  {
   "cell_type": "code",
   "execution_count": null,
   "metadata": {
    "collapsed": false
   },
   "outputs": [],
   "source": [
    "all_df = all_df.sort_values(['origin','year'])"
   ]
  },
  {
   "cell_type": "code",
   "execution_count": null,
   "metadata": {
    "collapsed": false
   },
   "outputs": [],
   "source": [
    "for i in all_df['origin'].unique():\n",
    "    \n",
    "    plt.plot(all_df[all_df['origin'] == i]['year'],all_df[all_df['origin'] == i]['comm_wealth'], label = i)\n",
    "\n",
    "plt.legend()\n",
    "plt.xlabel('Year')\n",
    "plt.ylabel('Mean In-Degree of Community ($)')\n",
    "\n",
    "plt.legend(loc='upper center', bbox_to_anchor=(0.5, -.15),\n",
    "          fancybox=True, shadow=True, ncol=7)"
   ]
  },
  {
   "cell_type": "code",
   "execution_count": 49,
   "metadata": {
    "collapsed": false
   },
   "outputs": [
    {
     "data": {
      "text/plain": [
       "[<matplotlib.lines.Line2D at 0x10f81bf90>]"
      ]
     },
     "execution_count": 49,
     "metadata": {},
     "output_type": "execute_result"
    },
    {
     "data": {
      "text/plain": [
       "[<matplotlib.lines.Line2D at 0x10f826210>]"
      ]
     },
     "execution_count": 49,
     "metadata": {},
     "output_type": "execute_result"
    },
    {
     "data": {
      "text/plain": [
       "[<matplotlib.lines.Line2D at 0x10f68e650>]"
      ]
     },
     "execution_count": 49,
     "metadata": {},
     "output_type": "execute_result"
    },
    {
     "data": {
      "text/plain": [
       "[<matplotlib.lines.Line2D at 0x10f826e10>]"
      ]
     },
     "execution_count": 49,
     "metadata": {},
     "output_type": "execute_result"
    },
    {
     "data": {
      "text/plain": [
       "<matplotlib.legend.Legend at 0x10e64ed50>"
      ]
     },
     "execution_count": 49,
     "metadata": {},
     "output_type": "execute_result"
    },
    {
     "data": {
      "text/plain": [
       "<matplotlib.text.Text at 0x10f333890>"
      ]
     },
     "execution_count": 49,
     "metadata": {},
     "output_type": "execute_result"
    },
    {
     "data": {
      "text/plain": [
       "<matplotlib.text.Text at 0x10f5352d0>"
      ]
     },
     "execution_count": 49,
     "metadata": {},
     "output_type": "execute_result"
    },
    {
     "data": {
      "text/plain": [
       "<matplotlib.legend.Legend at 0x10dec6ed0>"
      ]
     },
     "execution_count": 49,
     "metadata": {},
     "output_type": "execute_result"
    },
    {
     "data": {
      "image/png": "[encoded data removed]",
      "text/plain": [
       "<matplotlib.figure.Figure at 0x10f68e090>"
      ]
     },
     "metadata": {},
     "output_type": "display_data"
    }
   ],
   "source": [
    "\n",
    "plt.plot(all_df[all_df['origin'] == 'usa']['year'],all_df[all_df['origin'] == 'usa']['comm_wealth'], label = 'usa', marker = 'o')\n",
    "plt.plot(all_df[all_df['origin'] == 'chn']['year'],all_df[all_df['origin'] == 'chn']['comm_wealth'], label = 'chn', marker = '>')\n",
    "plt.plot(all_df[all_df['origin'] == 'jpn']['year'],all_df[all_df['origin'] == 'jpn']['comm_wealth'], label = 'jpn', marker = '<')\n",
    "plt.plot(all_df[all_df['origin'] == 'gbr']['year'],all_df[all_df['origin'] == 'gbr']['comm_wealth'], label = 'gbr', marker = '.')\n",
    "\n",
    "plt.legend()\n",
    "plt.xlabel('Year')\n",
    "plt.ylabel('Mean In-Degree of Community ($)')\n",
    "\n",
    "plt.legend(loc='upper center', bbox_to_anchor=(0.5, -.15),\n",
    "          fancybox=True, shadow=True, ncol=7)"
   ]
  },
  {
   "cell_type": "code",
   "execution_count": null,
   "metadata": {
    "collapsed": true
   },
   "outputs": [],
   "source": []
  }
 ],
 "metadata": {
  "anaconda-cloud": {},
  "kernelspec": {
   "display_name": "Python [conda root]",
   "language": "python",
   "name": "conda-root-py"
  },
  "language_info": {
   "codemirror_mode": {
    "name": "ipython",
    "version": 3
   },
   "file_extension": ".py",
   "mimetype": "text/x-python",
   "name": "python",
   "nbconvert_exporter": "python",
   "pygments_lexer": "ipython3",
   "version": "3.5.2"
  }
 },
 "nbformat": 4,
 "nbformat_minor": 1
}
